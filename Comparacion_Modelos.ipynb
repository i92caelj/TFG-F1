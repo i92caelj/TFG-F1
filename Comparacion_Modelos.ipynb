{
 "cells": [
  {
   "cell_type": "markdown",
   "metadata": {},
   "source": [
    "Primero cargaremos el csv de los datos y luego analizaremos los atributos, limpiandolos y quedandonos con lo mas importante."
   ]
  },
  {
   "cell_type": "code",
   "execution_count": 20,
   "metadata": {},
   "outputs": [
    {
     "name": "stdout",
     "output_type": "stream",
     "text": [
      "Defaulting to user installation because normal site-packages is not writeable\n",
      "Requirement already satisfied: pandas in /Users/javice/Library/Python/3.9/lib/python/site-packages (2.1.4)\n",
      "Requirement already satisfied: numpy<2,>=1.22.4 in /Users/javice/Library/Python/3.9/lib/python/site-packages (from pandas) (1.26.3)\n",
      "Requirement already satisfied: python-dateutil>=2.8.2 in /Users/javice/Library/Python/3.9/lib/python/site-packages (from pandas) (2.8.2)\n",
      "Requirement already satisfied: pytz>=2020.1 in /Users/javice/Library/Python/3.9/lib/python/site-packages (from pandas) (2023.3.post1)\n",
      "Requirement already satisfied: tzdata>=2022.1 in /Users/javice/Library/Python/3.9/lib/python/site-packages (from pandas) (2023.4)\n",
      "Requirement already satisfied: six>=1.5 in /Library/Developer/CommandLineTools/Library/Frameworks/Python3.framework/Versions/3.9/lib/python3.9/site-packages (from python-dateutil>=2.8.2->pandas) (1.15.0)\n"
     ]
    }
   ],
   "source": [
    "!pip3 install pandas"
   ]
  },
  {
   "cell_type": "code",
   "execution_count": 2,
   "metadata": {},
   "outputs": [],
   "source": [
    "import pandas as pd\n",
    "from sklearn.preprocessing import LabelEncoder, KBinsDiscretizer\n",
    "from sklearn.preprocessing import MinMaxScaler\n"
   ]
  },
  {
   "cell_type": "code",
   "execution_count": 3,
   "metadata": {},
   "outputs": [
    {
     "name": "stderr",
     "output_type": "stream",
     "text": [
      "/Users/javice/Library/Python/3.9/lib/python/site-packages/sklearn/preprocessing/_discretization.py:248: FutureWarning: In version 1.5 onwards, subsample=200_000 will be used by default. Set subsample explicitly to silence this warning in the mean time. Set subsample=None to disable subsampling explicitly.\n",
      "  warnings.warn(\n",
      "/Users/javice/Library/Python/3.9/lib/python/site-packages/sklearn/preprocessing/_discretization.py:248: FutureWarning: In version 1.5 onwards, subsample=200_000 will be used by default. Set subsample explicitly to silence this warning in the mean time. Set subsample=None to disable subsampling explicitly.\n",
      "  warnings.warn(\n"
     ]
    }
   ],
   "source": [
    "# Ruta al archivo CSV\n",
    "archivo_csv = 'Datasets/240310F1_Dataset.csv'\n",
    "encoder = LabelEncoder()\n",
    "# Leer el archivo CSV\n",
    "df_F1 = pd.read_csv(archivo_csv)\n",
    "\n",
    "\n",
    "df_F1.drop('DesgasteVuelta', axis=1, inplace=True)\n",
    "df_F1.drop('Clima', axis=1, inplace=True)\n",
    "df_F1.drop('TemperaturaPista', axis=1, inplace=True)\n",
    "\n",
    "encoder = LabelEncoder()\n",
    "df_F1['Piloto'] = encoder.fit_transform(df_F1['Piloto'])\n",
    "\n",
    "fuel_discretizer = KBinsDiscretizer(n_bins=20, encode='ordinal', strategy='uniform')\n",
    "Wheel_life_discretizer = KBinsDiscretizer(n_bins = 6, encode='ordinal', strategy='uniform')\n",
    "Trust_Discretizer = KBinsDiscretizer(n_bins=3, encode='ordinal', strategy='uniform')\n",
    "#Water_Discretizer = KBinsDiscretizer(n_bins=5, encode='ordinal', strategy='uniform')\n",
    "\n",
    "#df_F1['CargaCombustible'] = fuel_discretizer.fit_transform(df_F1[['CargaCombustible']])\n",
    "#df_F1['VidaNeumatico'] = Wheel_life_discretizer.fit_transform(df_F1[['VidaNeumatico']])\n",
    "df_F1['ConfianzaPilotoCoche'] = Trust_Discretizer.fit_transform(df_F1[['ConfianzaPilotoCoche']])\n",
    "df_F1['ConfianzaPilotoPista'] = Trust_Discretizer.fit_transform(df_F1[['ConfianzaPilotoPista']])\n",
    "#df_F1['CantidadAgua'] = Water_Discretizer.fit_transform(df_F1[['CantidadAgua']])\n",
    "\n",
    "df_F1.dropna(inplace=True)\n",
    "\n",
    "# Eliminar filas donde 'SafetyCar' es True\n",
    "df_F1 = df_F1[df_F1['SafetyCar'] == False]\n",
    "df_F1.drop('SafetyCar', axis=1, inplace=True)\n",
    "\n",
    "\n",
    "# Eliminar filas donde haya trafico ya que no son representativas.\n",
    "df_F1 = df_F1[df_F1['Trafico'] == False]\n",
    "df_F1.drop('Trafico', axis=1, inplace=True)\n",
    "\n",
    "\n",
    "df_F1 = pd.get_dummies(df_F1, columns = ['Circuito'] )\n",
    "df_F1 = pd.get_dummies(df_F1, columns = ['Neumáticos'] )\n",
    "df_F1 = pd.get_dummies(df_F1, columns = ['ModoPilotaje'] )\n",
    "df_F1 = pd.get_dummies(df_F1, columns = ['GomaEnPista'] )\n",
    "df_F1 = pd.get_dummies(df_F1, columns = ['AgarreAsfalto'] )\n",
    "\n"
   ]
  },
  {
   "cell_type": "code",
   "execution_count": 4,
   "metadata": {},
   "outputs": [
    {
     "name": "stdout",
     "output_type": "stream",
     "text": [
      "      Entrenamientos  CargaCombustible  Sobrecalentamiento  VidaNeumatico  \\\n",
      "0               True          0.406827               False       0.955224   \n",
      "1               True          0.320111               False       0.955224   \n",
      "2               True          0.389299               False       0.895522   \n",
      "3               True          0.301661               False       0.895522   \n",
      "4               True          0.372694               False       0.835821   \n",
      "...              ...               ...                 ...            ...   \n",
      "1523           False          0.036900               False       0.119403   \n",
      "1524           False          0.014760               False       0.208955   \n",
      "1525           False          0.019373               False       0.059701   \n",
      "1526           False          0.000000               False       0.149254   \n",
      "1527           False          0.004613               False       0.000000   \n",
      "\n",
      "      CantidadAgua  ConfianzaPilotoPista  ConfianzaPilotoCoche  Piloto  \\\n",
      "0              0.0                   0.0                   1.0       1   \n",
      "1              0.0                   0.0                   1.0       0   \n",
      "2              0.0                   0.0                   1.0       1   \n",
      "3              0.0                   0.0                   1.0       0   \n",
      "4              0.0                   0.0                   1.0       1   \n",
      "...            ...                   ...                   ...     ...   \n",
      "1523           0.0                   2.0                   2.0       0   \n",
      "1524           0.0                   2.0                   2.0       1   \n",
      "1525           0.0                   2.0                   2.0       0   \n",
      "1526           0.0                   2.0                   2.0       1   \n",
      "1527           0.0                   2.0                   2.0       0   \n",
      "\n",
      "      CombustibleAlto  Circuito_Australia  ...  ModoPilotaje_Save  \\\n",
      "0               False               False  ...              False   \n",
      "1               False               False  ...              False   \n",
      "2               False               False  ...              False   \n",
      "3               False               False  ...              False   \n",
      "4               False               False  ...              False   \n",
      "...               ...                 ...  ...                ...   \n",
      "1523            False               False  ...               True   \n",
      "1524            False               False  ...               True   \n",
      "1525            False               False  ...               True   \n",
      "1526            False               False  ...               True   \n",
      "1527            False               False  ...               True   \n",
      "\n",
      "      GomaEnPista_Average  GomaEnPista_High  GomaEnPista_Low  \\\n",
      "0                   False             False            False   \n",
      "1                   False             False            False   \n",
      "2                   False             False            False   \n",
      "3                   False             False            False   \n",
      "4                   False             False            False   \n",
      "...                   ...               ...              ...   \n",
      "1523                False             False            False   \n",
      "1524                False             False            False   \n",
      "1525                False             False            False   \n",
      "1526                False             False            False   \n",
      "1527                False             False            False   \n",
      "\n",
      "      GomaEnPista_VeryHigh  GomaEnPista_VeryLow  AgarreAsfalto_Average  \\\n",
      "0                    False                 True                   True   \n",
      "1                    False                 True                   True   \n",
      "2                    False                 True                   True   \n",
      "3                    False                 True                   True   \n",
      "4                    False                 True                   True   \n",
      "...                    ...                  ...                    ...   \n",
      "1523                  True                False                  False   \n",
      "1524                  True                False                  False   \n",
      "1525                  True                False                  False   \n",
      "1526                  True                False                  False   \n",
      "1527                  True                False                  False   \n",
      "\n",
      "      AgarreAsfalto_High  AgarreAsfalto_Low  AgarreAsfalto_VeryHigh  \n",
      "0                  False              False                   False  \n",
      "1                  False              False                   False  \n",
      "2                  False              False                   False  \n",
      "3                  False              False                   False  \n",
      "4                  False              False                   False  \n",
      "...                  ...                ...                     ...  \n",
      "1523               False              False                    True  \n",
      "1524               False              False                    True  \n",
      "1525               False              False                    True  \n",
      "1526               False              False                    True  \n",
      "1527               False              False                    True  \n",
      "\n",
      "[1320 rows x 31 columns]\n"
     ]
    }
   ],
   "source": [
    "\n",
    "# Selecting the 'CargaCombustible' column\n",
    "carga_combustible = df_F1['CargaCombustible'].values.reshape(-1, 1)\n",
    "\n",
    "min_max_scaler = MinMaxScaler()\n",
    "carga_combustible_minmax = min_max_scaler.fit_transform(carga_combustible)\n",
    "\n",
    "df_F1['CargaCombustible'] = carga_combustible_minmax\n",
    "\n",
    "\n",
    "# Selecting the 'VidaNeumatico' column\n",
    "Vida_neumatico = df_F1['VidaNeumatico'].values.reshape(-1, 1)\n",
    "\n",
    "vida_neumatico_min_max = min_max_scaler.fit_transform(Vida_neumatico)\n",
    "\n",
    "df_F1['VidaNeumatico'] = vida_neumatico_min_max\n",
    "\n",
    "\n",
    "# Selecting the 'CantidadAgua' column\n",
    "Cantidad_Agua = df_F1['CantidadAgua'].values.reshape(-1, 1)\n",
    "\n",
    "Cantidad_Agua_min_max = min_max_scaler.fit_transform(Cantidad_Agua)\n",
    "\n",
    "df_F1['CantidadAgua'] = Cantidad_Agua_min_max\n",
    "\n",
    "\n",
    "X = df_F1.drop('TiempoVuelta', axis=1)\n",
    "print(X)\n",
    "Y = df_F1[['TiempoVuelta']]"
   ]
  },
  {
   "cell_type": "markdown",
   "metadata": {},
   "source": [
    "Ahora vamos a utilizar técnicas de mineria de datos para encontrar el mejor algoritmo que aproxime el mejor tiempo por vuelta dependiendo de los diferentes factores en los que se encuentra el coche.\n"
   ]
  },
  {
   "cell_type": "markdown",
   "metadata": {},
   "source": [
    "Vamos a probar los siguientes Métodos: Regresion Lineal, SVM, Árboles de decisión, Random Forest"
   ]
  },
  {
   "cell_type": "markdown",
   "metadata": {},
   "source": [
    "Modelo de regresion Lineal:"
   ]
  },
  {
   "cell_type": "code",
   "execution_count": 5,
   "metadata": {},
   "outputs": [
    {
     "name": "stdout",
     "output_type": "stream",
     "text": [
      "Mean Squared Error: 1.704370164685799\n",
      "Error Medio: 0.5282552675189386\n"
     ]
    }
   ],
   "source": [
    "from sklearn.model_selection import train_test_split\n",
    "\n",
    "X_train, X_test, y_train, y_test = train_test_split(X, Y, test_size=0.2, random_state=42)\n",
    "\n",
    "from sklearn.linear_model import LinearRegression\n",
    "\n",
    "modelo = LinearRegression()\n",
    "modelo.fit(X_train, y_train)\n",
    "\n",
    "y_pred = modelo.predict(X_test)\n",
    "\n",
    "from sklearn.metrics import mean_squared_error, mean_absolute_error\n",
    "\n",
    "mse = mean_squared_error(y_pred, y_test)\n",
    "me = mean_absolute_error(y_test, y_pred)\n",
    "\n",
    "print(f\"Mean Squared Error: {mse}\")\n",
    "print(f\"Error Medio: {me}\")\n",
    "\n"
   ]
  },
  {
   "cell_type": "markdown",
   "metadata": {},
   "source": [
    "Ahora probaremos el método de vecinos mas cercanos."
   ]
  },
  {
   "cell_type": "code",
   "execution_count": 6,
   "metadata": {},
   "outputs": [
    {
     "name": "stdout",
     "output_type": "stream",
     "text": [
      "Mean Squared Error: 1.4066045636363644\n",
      "Error Medio: 0.4035924242424236\n"
     ]
    }
   ],
   "source": [
    "from sklearn.neighbors import KNeighborsRegressor\n",
    "# Dividir los datos en conjuntos de entrenamiento y prueba\n",
    "X_train, X_test, y_train, y_test = train_test_split(X, Y, test_size=0.2, random_state=42)\n",
    "\n",
    "# Crear el modelo KNN\n",
    "knn = KNeighborsRegressor(n_neighbors=5) # Puedes ajustar el número de vecinos aquí\n",
    "knn.fit(X_train, y_train)\n",
    "\n",
    "# Realizar predicciones en el conjunto de prueba\n",
    "y_pred = knn.predict(X_test)\n",
    "\n",
    "# Evaluar el modelo\n",
    "mse = mean_squared_error(y_pred, y_test)\n",
    "me = mean_absolute_error(y_test, y_pred)\n",
    "\n",
    "print(f\"Mean Squared Error: {mse}\")\n",
    "print(f\"Error Medio: {me}\")\n"
   ]
  },
  {
   "cell_type": "markdown",
   "metadata": {},
   "source": [
    "Ahora probaremos los arboles de decision"
   ]
  },
  {
   "cell_type": "code",
   "execution_count": 7,
   "metadata": {},
   "outputs": [
    {
     "name": "stdout",
     "output_type": "stream",
     "text": [
      "Mean Squared Error: 0.2875110530303026\n",
      "Error Medio: 0.24715151515151443\n"
     ]
    }
   ],
   "source": [
    "from sklearn.tree import DecisionTreeRegressor\n",
    "\n",
    "modelo = DecisionTreeRegressor(random_state=42)\n",
    "modelo.fit(X_train, y_train)\n",
    "\n",
    "y_pred = modelo.predict(X_test)\n",
    "mse = mean_squared_error(y_test, y_pred)\n",
    "\n",
    "# Evaluar el modelo\n",
    "mse = mean_squared_error(y_pred, y_test)\n",
    "me = mean_absolute_error(y_test, y_pred)\n",
    "\n",
    "print(f\"Mean Squared Error: {mse}\")\n",
    "print(f\"Error Medio: {me}\")\n"
   ]
  },
  {
   "cell_type": "markdown",
   "metadata": {},
   "source": [
    "Ahora probaremos los SVM"
   ]
  },
  {
   "cell_type": "code",
   "execution_count": 7,
   "metadata": {},
   "outputs": [
    {
     "name": "stdout",
     "output_type": "stream",
     "text": [
      "Mean Squared Error: 1.742731239160433\n",
      "Error Medio: 0.4819402320446148\n"
     ]
    },
    {
     "name": "stderr",
     "output_type": "stream",
     "text": [
      "/Users/javice/Library/Python/3.9/lib/python/site-packages/sklearn/utils/validation.py:1183: DataConversionWarning: A column-vector y was passed when a 1d array was expected. Please change the shape of y to (n_samples, ), for example using ravel().\n",
      "  y = column_or_1d(y, warn=True)\n"
     ]
    }
   ],
   "source": [
    "from sklearn.svm import SVR\n",
    "\n",
    "modelo = SVR()\n",
    "modelo.fit(X_train, y_train)\n",
    "\n",
    "# Predecir el tiempo de vuelta en el conjunto de prueba\n",
    "y_pred = modelo.predict(X_test)\n",
    "\n",
    "mse = mean_squared_error(y_test, y_pred)\n",
    "\n",
    "# Evaluar el modelo\n",
    "mse = mean_squared_error(y_pred, y_test)\n",
    "me = mean_absolute_error(y_test, y_pred)\n",
    "\n",
    "print(f\"Mean Squared Error: {mse}\")\n",
    "print(f\"Error Medio: {me}\")\n"
   ]
  },
  {
   "cell_type": "markdown",
   "metadata": {},
   "source": [
    "Ahora Probaremos el Random Forest"
   ]
  },
  {
   "cell_type": "code",
   "execution_count": 11,
   "metadata": {},
   "outputs": [
    {
     "name": "stdout",
     "output_type": "stream",
     "text": [
      "Mean Squared Error: 0.9680342492424239\n",
      "Error Medio: 0.30999772727272656\n"
     ]
    }
   ],
   "source": [
    "from sklearn.ensemble import RandomForestRegressor\n",
    "\n",
    "modelo = RandomForestRegressor(n_estimators=5,  random_state=42)\n",
    "modelo.fit(X_train, y_train)\n",
    "\n",
    "y_pred = modelo.predict(X_test)\n",
    "\n",
    "mse = mean_squared_error(y_test, y_pred)\n",
    "\n",
    "# Evaluar el modelo\n",
    "mse = mean_squared_error(y_pred, y_test)\n",
    "me = mean_absolute_error(y_test, y_pred)\n",
    "\n",
    "print(f\"Mean Squared Error: {mse}\")\n",
    "print(f\"Error Medio: {me}\")\n"
   ]
  },
  {
   "cell_type": "markdown",
   "metadata": {},
   "source": [
    "Utilizamos ahora el Gradient Boosting, una tecnica de Boosting entrena sucesivamente diferentes modelos, centrandose en los fallos del modelo anterior."
   ]
  },
  {
   "cell_type": "code",
   "execution_count": 9,
   "metadata": {},
   "outputs": [
    {
     "name": "stdout",
     "output_type": "stream",
     "text": [
      "Mean Squared Error: 0.8749150563466419\n",
      "Error Medio: 0.4547218586758233\n"
     ]
    },
    {
     "name": "stderr",
     "output_type": "stream",
     "text": [
      "/Users/javice/Library/Python/3.9/lib/python/site-packages/sklearn/ensemble/_gb.py:424: DataConversionWarning: A column-vector y was passed when a 1d array was expected. Please change the shape of y to (n_samples, ), for example using ravel().\n",
      "  y = column_or_1d(y, warn=True)\n"
     ]
    }
   ],
   "source": [
    "from sklearn.ensemble import GradientBoostingRegressor\n",
    "\n",
    "# Crear el modelo de Gradient Boosting\n",
    "gb = GradientBoostingRegressor(n_estimators=20, learning_rate=0.3, random_state=42)\n",
    "gb.fit(X_train, y_train)\n",
    "\n",
    "# Realizar predicciones y evaluar\n",
    "y_pred = gb.predict(X_test)\n",
    "mse = mean_squared_error(y_test, y_pred)\n",
    "\n",
    "# Evaluar el modelo\n",
    "mse = mean_squared_error(y_pred, y_test)\n",
    "me = mean_absolute_error(y_test, y_pred)\n",
    "\n",
    "print(f\"Mean Squared Error: {mse}\")\n",
    "print(f\"Error Medio: {me}\")"
   ]
  },
  {
   "cell_type": "markdown",
   "metadata": {},
   "source": [
    "A continuación vamos a ver el método de Stacking. Con el cual combinamos diferentes estimadores y el modelo se encarga de utilizar cada uno de los métodos dependiendo de cual estime mejor."
   ]
  },
  {
   "cell_type": "code",
   "execution_count": 10,
   "metadata": {},
   "outputs": [
    {
     "name": "stderr",
     "output_type": "stream",
     "text": [
      "/Users/javice/Library/Python/3.9/lib/python/site-packages/sklearn/ensemble/_stacking.py:955: DataConversionWarning: A column-vector y was passed when a 1d array was expected. Please change the shape of y to (n_samples, ), for example using ravel().\n",
      "  y = column_or_1d(y, warn=True)\n"
     ]
    },
    {
     "name": "stdout",
     "output_type": "stream",
     "text": [
      "Mean Squared Error: 0.9450432654832265\n",
      "Error Medio: 0.4096843664690793\n"
     ]
    }
   ],
   "source": [
    "from sklearn.ensemble import StackingRegressor\n",
    "\n",
    "# Definir los modelos base\n",
    "estimators = [\n",
    "    ('td', LinearRegression()),\n",
    "    ('gb', GradientBoostingRegressor(n_estimators=20, learning_rate=0.3, random_state=42)),\n",
    "]\n",
    "\n",
    "# Crear el modelo de Stacking\n",
    "stack_reg = StackingRegressor(estimators=estimators, final_estimator=LinearRegression())\n",
    "stack_reg.fit(X_train, y_train)\n",
    "\n",
    "# Realizar predicciones y evaluar\n",
    "y_pred = stack_reg.predict(X_test)\n",
    "mse = mean_squared_error(y_test, y_pred)\n",
    "\n",
    "# Evaluar el modelo\n",
    "mse = mean_squared_error(y_pred, y_test)\n",
    "me = mean_absolute_error(y_test, y_pred)\n",
    "\n",
    "print(f\"Mean Squared Error: {mse}\")\n",
    "print(f\"Error Medio: {me}\")"
   ]
  },
  {
   "cell_type": "markdown",
   "metadata": {},
   "source": [
    "Ahora vamos a probar el método de bagging"
   ]
  },
  {
   "cell_type": "code",
   "execution_count": 11,
   "metadata": {},
   "outputs": [
    {
     "name": "stderr",
     "output_type": "stream",
     "text": [
      "/Users/javice/Library/Python/3.9/lib/python/site-packages/sklearn/ensemble/_bagging.py:509: DataConversionWarning: A column-vector y was passed when a 1d array was expected. Please change the shape of y to (n_samples, ), for example using ravel().\n",
      "  return column_or_1d(y, warn=True)\n",
      "/Users/javice/Library/Python/3.9/lib/python/site-packages/sklearn/ensemble/_base.py:156: FutureWarning: `base_estimator` was renamed to `estimator` in version 1.2 and will be removed in 1.4.\n",
      "  warnings.warn(\n"
     ]
    },
    {
     "name": "stdout",
     "output_type": "stream",
     "text": [
      "Mean Squared Error: 1.4899468887603253\n",
      "Error Medio: 0.4420734132405801\n"
     ]
    }
   ],
   "source": [
    "from sklearn.ensemble import BaggingRegressor\n",
    "from sklearn.tree import DecisionTreeRegressor\n",
    "\n",
    "# Crear el modelo de Bagging\n",
    "bag_reg = BaggingRegressor(base_estimator=LinearRegression(), n_estimators=100, random_state=42)\n",
    "bag_reg.fit(X_train, y_train)\n",
    "\n",
    "\n",
    "# Realizar predicciones y evaluar\n",
    "y_pred = bag_reg.predict(X_test)\n",
    "\n",
    "mse = mean_squared_error(y_test, y_pred)\n",
    "\n",
    "# Evaluar el modelo\n",
    "mse = mean_squared_error(y_pred, y_test)\n",
    "me = mean_absolute_error(y_test, y_pred)\n",
    "\n",
    "print(f\"Mean Squared Error: {mse}\")\n",
    "print(f\"Error Medio: {me}\")"
   ]
  },
  {
   "cell_type": "markdown",
   "metadata": {},
   "source": [
    "Ahora vamos a utilizar la validación cruzada para ver si obtenemos unos mejores resultados."
   ]
  },
  {
   "cell_type": "markdown",
   "metadata": {},
   "source": [
    "Con la regresion Lineal"
   ]
  },
  {
   "cell_type": "code",
   "execution_count": 9,
   "metadata": {},
   "outputs": [
    {
     "name": "stdout",
     "output_type": "stream",
     "text": [
      "Error Cuadrático Medio Promedio: 1.0653868874597154\n",
      "Error Absoluto Medio Promedio: 0.47376715383818635\n"
     ]
    }
   ],
   "source": [
    "import numpy as np\n",
    "from sklearn.model_selection import KFold\n",
    "\n",
    "# Supongamos que df es tu DataFrame y que 'target' es la columna objetivo\n",
    "df = df_F1 # Reemplaza con tu DataFrame\n",
    "X = df.drop('TiempoVuelta', axis=1)  # Reemplaza 'target' con el nombre de tu columna objetivo\n",
    "y = df['TiempoVuelta']  # De nuevo, reemplaza 'target' con el nombre de tu columna objetivo\n",
    "# Configuración de K-Fold\n",
    "kf = KFold(n_splits=5, shuffle=True, random_state=42)  # shuffle y random_state son opcionales pero recomendados\n",
    "\n",
    "mse_scores = []\n",
    "mae_scores = []\n",
    "\n",
    "# Bucle K-Fold\n",
    "for train_index, test_index in kf.split(X):\n",
    "    X_train, X_test = X.iloc[train_index], X.iloc[test_index]\n",
    "    y_train, y_test = y.iloc[train_index], y.iloc[test_index]\n",
    "\n",
    "    # Crear y entrenar el modelo\n",
    "    model = LinearRegression()\n",
    "    model.fit(X_train, y_train)\n",
    "\n",
    "    # Hacer predicciones y evaluar\n",
    "    y_pred = model.predict(X_test)\n",
    "    mse_scores.append(mean_squared_error(y_test, y_pred))\n",
    "    mae_scores.append(mean_absolute_error(y_test, y_pred))\n",
    "\n",
    "# Calcular la media de los errores\n",
    "mean_mse = np.mean(mse_scores)\n",
    "mean_mae = np.mean(mae_scores)\n",
    "\n",
    "print(f\"Error Cuadrático Medio Promedio: {mean_mse}\")\n",
    "print(f\"Error Absoluto Medio Promedio: {mean_mae}\")\n"
   ]
  },
  {
   "cell_type": "markdown",
   "metadata": {},
   "source": [
    "Ahora probaremos con KNN"
   ]
  },
  {
   "cell_type": "code",
   "execution_count": 13,
   "metadata": {},
   "outputs": [
    {
     "name": "stdout",
     "output_type": "stream",
     "text": [
      "Error Cuadrático Medio Promedio: 1.752567991545454\n",
      "Error Absoluto Medio Promedio: 0.48267954545454533\n"
     ]
    }
   ],
   "source": [
    "# Supongamos que df es tu DataFrame y que 'target' es la columna objetivo\n",
    "df = df_F1 # Reemplaza con tu DataFrame\n",
    "X = df.drop('TiempoVuelta', axis=1)  # Reemplaza 'target' con el nombre de tu columna objetivo\n",
    "y = df['TiempoVuelta']  # De nuevo, reemplaza 'target' con el nombre de tu columna objetivo\n",
    "# Configuración de K-Fold\n",
    "kf = KFold(n_splits=5, shuffle=True, random_state=42)  # shuffle y random_state son opcionales pero recomendados\n",
    "\n",
    "mse_scores = []\n",
    "mae_scores = []\n",
    "\n",
    "# Bucle K-Fold\n",
    "for train_index, test_index in kf.split(X):\n",
    "    X_train, X_test = X.iloc[train_index], X.iloc[test_index]\n",
    "    y_train, y_test = y.iloc[train_index], y.iloc[test_index]\n",
    "\n",
    "    # Crear y entrenar el modelo\n",
    "    model = KNeighborsRegressor(n_neighbors=5)\n",
    "    model.fit(X_train, y_train)\n",
    "\n",
    "    # Hacer predicciones y evaluar\n",
    "    y_pred = model.predict(X_test)\n",
    "    mse_scores.append(mean_squared_error(y_test, y_pred))\n",
    "    mae_scores.append(mean_absolute_error(y_test, y_pred))\n",
    "\n",
    "# Calcular la media de los errores\n",
    "mean_mse = np.mean(mse_scores)\n",
    "mean_mae = np.mean(mae_scores)\n",
    "\n",
    "print(f\"Error Cuadrático Medio Promedio: {mean_mse}\")\n",
    "print(f\"Error Absoluto Medio Promedio: {mean_mae}\")"
   ]
  },
  {
   "cell_type": "markdown",
   "metadata": {},
   "source": [
    "Ahora probaremos con los arboles de decisión"
   ]
  },
  {
   "cell_type": "code",
   "execution_count": 14,
   "metadata": {},
   "outputs": [
    {
     "name": "stdout",
     "output_type": "stream",
     "text": [
      "Error Cuadrático Medio Promedio: 0.5434924318181817\n",
      "Error Absoluto Medio Promedio: 0.26759242424242435\n"
     ]
    }
   ],
   "source": [
    "# Supongamos que df es tu DataFrame y que 'target' es la columna objetivo\n",
    "df = df_F1 # Reemplaza con tu DataFrame\n",
    "X = df.drop('TiempoVuelta', axis=1)  # Reemplaza 'target' con el nombre de tu columna objetivo\n",
    "y = df['TiempoVuelta']  # De nuevo, reemplaza 'target' con el nombre de tu columna objetivo\n",
    "# Configuración de K-Fold\n",
    "kf = KFold(n_splits=5, shuffle=True, random_state=42)  # shuffle y random_state son opcionales pero recomendados\n",
    "\n",
    "mse_scores = []\n",
    "mae_scores = []\n",
    "\n",
    "# Bucle K-Fold\n",
    "for train_index, test_index in kf.split(X):\n",
    "    X_train, X_test = X.iloc[train_index], X.iloc[test_index]\n",
    "    y_train, y_test = y.iloc[train_index], y.iloc[test_index]\n",
    "\n",
    "    # Crear y entrenar el modelo\n",
    "    model = DecisionTreeRegressor()\n",
    "    model.fit(X_train, y_train)\n",
    "\n",
    "    # Hacer predicciones y evaluar\n",
    "    y_pred = model.predict(X_test)\n",
    "    mse_scores.append(mean_squared_error(y_test, y_pred))\n",
    "    mae_scores.append(mean_absolute_error(y_test, y_pred))\n",
    "\n",
    "# Calcular la media de los errores\n",
    "mean_mse = np.mean(mse_scores)\n",
    "mean_mae = np.mean(mae_scores)\n",
    "\n",
    "print(f\"Error Cuadrático Medio Promedio: {mean_mse}\")\n",
    "print(f\"Error Absoluto Medio Promedio: {mean_mae}\")\n"
   ]
  },
  {
   "cell_type": "markdown",
   "metadata": {},
   "source": [
    "Ahora lo probamos con el SVM"
   ]
  },
  {
   "cell_type": "code",
   "execution_count": 15,
   "metadata": {},
   "outputs": [
    {
     "name": "stdout",
     "output_type": "stream",
     "text": [
      "Error Cuadrático Medio Promedio: 1.2237387609200145\n",
      "Error Absoluto Medio Promedio: 0.46349018161147465\n"
     ]
    }
   ],
   "source": [
    "# Supongamos que df es tu DataFrame y que 'target' es la columna objetivo\n",
    "df = df_F1 # Reemplaza con tu DataFrame\n",
    "X = df.drop('TiempoVuelta', axis=1)  # Reemplaza 'target' con el nombre de tu columna objetivo\n",
    "y = df['TiempoVuelta']  # De nuevo, reemplaza 'target' con el nombre de tu columna objetivo\n",
    "# Configuración de K-Fold\n",
    "kf = KFold(n_splits=5, shuffle=True, random_state=42)  # shuffle y random_state son opcionales pero recomendados\n",
    "\n",
    "mse_scores = []\n",
    "mae_scores = []\n",
    "\n",
    "# Bucle K-Fold\n",
    "for train_index, test_index in kf.split(X):\n",
    "    X_train, X_test = X.iloc[train_index], X.iloc[test_index]\n",
    "    y_train, y_test = y.iloc[train_index], y.iloc[test_index]\n",
    "\n",
    "    # Crear y entrenar el modelo\n",
    "    model = SVR()\n",
    "    model.fit(X_train, y_train)\n",
    "\n",
    "    # Hacer predicciones y evaluar\n",
    "    y_pred = model.predict(X_test)\n",
    "    mse_scores.append(mean_squared_error(y_test, y_pred))\n",
    "    mae_scores.append(mean_absolute_error(y_test, y_pred))\n",
    "\n",
    "# Calcular la media de los errores\n",
    "mean_mse = np.mean(mse_scores)\n",
    "mean_mae = np.mean(mae_scores)\n",
    "\n",
    "print(f\"Error Cuadrático Medio Promedio: {mean_mse}\")\n",
    "print(f\"Error Absoluto Medio Promedio: {mean_mae}\")"
   ]
  },
  {
   "cell_type": "markdown",
   "metadata": {},
   "source": [
    "Con el random Forest"
   ]
  },
  {
   "cell_type": "code",
   "execution_count": 12,
   "metadata": {},
   "outputs": [
    {
     "name": "stdout",
     "output_type": "stream",
     "text": [
      "Error Cuadrático Medio Promedio: 0.5402377414984556\n",
      "Error Absoluto Medio Promedio: 0.248193704545458\n"
     ]
    }
   ],
   "source": [
    "# Supongamos que df es tu DataFrame y que 'target' es la columna objetivo\n",
    "df = df_F1 # Reemplaza con tu DataFrame\n",
    "X = df.drop('TiempoVuelta', axis=1)  # Reemplaza 'target' con el nombre de tu columna objetivo\n",
    "y = df['TiempoVuelta']  # De nuevo, reemplaza 'target' con el nombre de tu columna objetivo\n",
    "# Configuración de K-Fold\n",
    "kf = KFold(n_splits=5, shuffle=True, random_state=42)  # shuffle y random_state son opcionales pero recomendados\n",
    "\n",
    "mse_scores = []\n",
    "mae_scores = []\n",
    "\n",
    "# Bucle K-Fold\n",
    "for train_index, test_index in kf.split(X):\n",
    "    X_train, X_test = X.iloc[train_index], X.iloc[test_index]\n",
    "    y_train, y_test = y.iloc[train_index], y.iloc[test_index]\n",
    "\n",
    "    # Crear y entrenar el modelo\n",
    "    model = RandomForestRegressor(n_estimators=200)\n",
    "    model.fit(X_train, y_train)\n",
    "\n",
    "    # Hacer predicciones y evaluar\n",
    "    y_pred = model.predict(X_test)\n",
    "    mse_scores.append(mean_squared_error(y_test, y_pred))\n",
    "    mae_scores.append(mean_absolute_error(y_test, y_pred))\n",
    "\n",
    "# Calcular la media de los errores\n",
    "mean_mse = np.mean(mse_scores)\n",
    "mean_mae = np.mean(mae_scores)\n",
    "\n",
    "print(f\"Error Cuadrático Medio Promedio: {mean_mse}\")\n",
    "print(f\"Error Absoluto Medio Promedio: {mean_mae}\")"
   ]
  },
  {
   "cell_type": "markdown",
   "metadata": {},
   "source": [
    "Ahora probaremos con el gradient Boosting"
   ]
  },
  {
   "cell_type": "code",
   "execution_count": 17,
   "metadata": {},
   "outputs": [
    {
     "name": "stdout",
     "output_type": "stream",
     "text": [
      "Error Cuadrático Medio Promedio: 0.6463832167669709\n",
      "Error Absoluto Medio Promedio: 0.29829603540318084\n"
     ]
    }
   ],
   "source": [
    "\n",
    "df = df_F1 \n",
    "X = df.drop('TiempoVuelta', axis=1)  \n",
    "y = df['TiempoVuelta']  \n",
    "# Configuración de K-Fold\n",
    "kf = KFold(n_splits=5, shuffle=True, random_state=42)  # shuffle y random_state son opcionales pero recomendados\n",
    "\n",
    "mse_scores = []\n",
    "mae_scores = []\n",
    "\n",
    "# Bucle K-Fold\n",
    "for train_index, test_index in kf.split(X):\n",
    "    X_train, X_test = X.iloc[train_index], X.iloc[test_index]\n",
    "    y_train, y_test = y.iloc[train_index], y.iloc[test_index]\n",
    "\n",
    "    # Crear y entrenar el modelo\n",
    "    model = GradientBoostingRegressor(n_estimators=100, learning_rate=0.3, random_state=42)\n",
    "    model.fit(X_train, y_train)\n",
    "\n",
    "    # Hacer predicciones y evaluar\n",
    "    y_pred = model.predict(X_test)\n",
    "    mse_scores.append(mean_squared_error(y_test, y_pred))\n",
    "    mae_scores.append(mean_absolute_error(y_test, y_pred))\n",
    "\n",
    "# Calcular la media de los errores\n",
    "mean_mse = np.mean(mse_scores)\n",
    "mean_mae = np.mean(mae_scores)\n",
    "\n",
    "print(f\"Error Cuadrático Medio Promedio: {mean_mse}\")\n",
    "print(f\"Error Absoluto Medio Promedio: {mean_mae}\")"
   ]
  },
  {
   "cell_type": "markdown",
   "metadata": {},
   "source": [
    "Ahora utilizaremos el método de Stacking"
   ]
  },
  {
   "cell_type": "code",
   "execution_count": 22,
   "metadata": {},
   "outputs": [
    {
     "name": "stdout",
     "output_type": "stream",
     "text": [
      "Error Cuadrático Medio Promedio: 0.7927169932692646\n",
      "Error Absoluto Medio Promedio: 0.40932147097609944\n"
     ]
    }
   ],
   "source": [
    "\n",
    "df = df_F1 \n",
    "X = df.drop('TiempoVuelta', axis=1) \n",
    "y = df['TiempoVuelta']  \n",
    "# Configuración de K-Fold\n",
    "kf = KFold(n_splits=5, shuffle=True, random_state=42)  # shuffle y random_state son opcionales pero recomendados\n",
    "\n",
    "mse_scores = []\n",
    "mae_scores = []\n",
    "\n",
    "# Bucle K-Fold\n",
    "for train_index, test_index in kf.split(X):\n",
    "    X_train, X_test = X.iloc[train_index], X.iloc[test_index]\n",
    "    y_train, y_test = y.iloc[train_index], y.iloc[test_index]\n",
    "\n",
    "    estimators = [\n",
    "        ('rf', LinearRegression()),\n",
    "        ('gb', GradientBoostingRegressor(n_estimators=100, learning_rate=0.3, random_state=42)),\n",
    "    ]\n",
    "\n",
    "    # Crear y entrenar el modelo\n",
    "    model = StackingRegressor(estimators=estimators, final_estimator=LinearRegression())\n",
    "    model.fit(X_train, y_train)\n",
    "\n",
    "    # Hacer predicciones y evaluar\n",
    "    y_pred = model.predict(X_test)\n",
    "    mse_scores.append(mean_squared_error(y_test, y_pred))\n",
    "    mae_scores.append(mean_absolute_error(y_test, y_pred))\n",
    "\n",
    "# Calcular la media de los errores\n",
    "mean_mse = np.mean(mse_scores)\n",
    "mean_mae = np.mean(mae_scores)\n",
    "\n",
    "print(f\"Error Cuadrático Medio Promedio: {mean_mse}\")\n",
    "print(f\"Error Absoluto Medio Promedio: {mean_mae}\")"
   ]
  },
  {
   "cell_type": "markdown",
   "metadata": {},
   "source": [
    "Ahora lo probaremos con el bagging"
   ]
  },
  {
   "cell_type": "code",
   "execution_count": 13,
   "metadata": {},
   "outputs": [
    {
     "ename": "NameError",
     "evalue": "name 'BaggingRegressor' is not defined",
     "output_type": "error",
     "traceback": [
      "\u001b[0;31m---------------------------------------------------------------------------\u001b[0m",
      "\u001b[0;31mNameError\u001b[0m                                 Traceback (most recent call last)",
      "Cell \u001b[0;32mIn[13], line 16\u001b[0m\n\u001b[1;32m     13\u001b[0m y_train, y_test \u001b[38;5;241m=\u001b[39m y\u001b[38;5;241m.\u001b[39miloc[train_index], y\u001b[38;5;241m.\u001b[39miloc[test_index]\n\u001b[1;32m     15\u001b[0m \u001b[38;5;66;03m# Crear y entrenar el modelo\u001b[39;00m\n\u001b[0;32m---> 16\u001b[0m model \u001b[38;5;241m=\u001b[39m \u001b[43mBaggingRegressor\u001b[49m(estimator\u001b[38;5;241m=\u001b[39mLinearRegression(), n_estimators\u001b[38;5;241m=\u001b[39m\u001b[38;5;241m20\u001b[39m, random_state\u001b[38;5;241m=\u001b[39m\u001b[38;5;241m42\u001b[39m)\n\u001b[1;32m     17\u001b[0m model\u001b[38;5;241m.\u001b[39mfit(X_train, y_train)\n\u001b[1;32m     19\u001b[0m \u001b[38;5;66;03m# Hacer predicciones y evaluar\u001b[39;00m\n",
      "\u001b[0;31mNameError\u001b[0m: name 'BaggingRegressor' is not defined"
     ]
    }
   ],
   "source": [
    "\n",
    "df = df_F1 \n",
    "X = df.drop('TiempoVuelta', axis=1) \n",
    "y = df['TiempoVuelta'] \n",
    "# Configuración de K-Fold\n",
    "kf = KFold(n_splits=5, shuffle=True, random_state=42)  # shuffle y random_state son opcionales pero recomendados\n",
    "\n",
    "mse_scores = []\n",
    "mae_scores = []\n",
    "\n",
    "# Bucle K-Fold\n",
    "for train_index, test_index in kf.split(X):\n",
    "    X_train, X_test = X.iloc[train_index], X.iloc[test_index]\n",
    "    y_train, y_test = y.iloc[train_index], y.iloc[test_index]\n",
    "\n",
    "    # Crear y entrenar el modelo\n",
    "    model = BaggingRegressor(estimator=LinearRegression(), n_estimators=20, random_state=42)\n",
    "    model.fit(X_train, y_train)\n",
    "\n",
    "    # Hacer predicciones y evaluar\n",
    "    y_pred = model.predict(X_test)\n",
    "    mse_scores.append(mean_squared_error(y_test, y_pred))\n",
    "    mae_scores.append(mean_absolute_error(y_test, y_pred))\n",
    "\n",
    "# Calcular la media de los errores\n",
    "mean_mse = np.mean(mse_scores)\n",
    "mean_mae = np.mean(mae_scores)\n",
    "\n",
    "print(f\"Error Cuadrático Medio Promedio: {mean_mse}\")\n",
    "print(f\"Error Absoluto Medio Promedio: {mean_mae}\")"
   ]
  },
  {
   "cell_type": "markdown",
   "metadata": {},
   "source": [
    "Ahora vamos a probar a ver si creando un modelo para cada circuito obtenemos mejores datos, ya que eso se ajustaría mejor a la realidad del problema."
   ]
  },
  {
   "cell_type": "markdown",
   "metadata": {},
   "source": [
    "Ahora vamos a definir la funcion que transformará los datos de entrada a los datos que necesita el modelo para funcionar correctamente:"
   ]
  },
  {
   "cell_type": "code",
   "execution_count": 24,
   "metadata": {},
   "outputs": [],
   "source": [
    "def transform_data(Circuit, sesion, Neumaticos, ModoPilotaje, \n",
    "            CargaCombustible, GomaEnpista,\n",
    "            Agarre, Sobrecalentamiento, VidaNeumatico, agua, confpilotopista,\n",
    "            confpilotocoche, piloto, combustible):\n",
    "    \n",
    "    if piloto == \"Sainz\":\n",
    "        piloto = 0\n",
    "    else: piloto = 1\n",
    "\n",
    "\n",
    "    if Circuit == 'Bahrein':\n",
    "        Circuito_Barein = True\n",
    "        Circuito_Jeddah = False\n",
    "        Circuito_Australia = False\n",
    "        Circuito_Imola = False\n",
    "        Circuito_Miami = False\n",
    "    elif Circuit == 'Jeddah':\n",
    "        Circuito_Barein = False\n",
    "        Circuito_Jeddah = True\n",
    "        Circuito_Australia = False\n",
    "        Circuito_Imola = False\n",
    "        Circuito_Miami = False\n",
    "    elif Circuit == 'Australia':\n",
    "        Circuito_Barein = False\n",
    "        Circuito_Jeddah = False\n",
    "        Circuito_Australia = True\n",
    "        Circuito_Imola = False\n",
    "        Circuito_Miami = False\n",
    "    elif Circuit == 'Imola':\n",
    "        Circuito_Barein = False\n",
    "        Circuito_Jeddah = False\n",
    "        Circuito_Australia = False\n",
    "        Circuito_Imola = True\n",
    "        Circuito_Miami = False\n",
    "    elif Circuit == 'Miami':\n",
    "        Circuito_Barein = False\n",
    "        Circuito_Jeddah = False\n",
    "        Circuito_Australia = False\n",
    "        Circuito_Imola = False\n",
    "        Circuito_Miami = True\n",
    "    \n",
    "\n",
    "    if Neumaticos == 'Soft':\n",
    "        Neumaticos_Soft = True\n",
    "        Neumaticos_Medium = False\n",
    "        Neumaticos_Hard = False\n",
    "        Neumaticos_Inter = False\n",
    "        Neumaticos_Rain = False\n",
    "    elif Neumaticos == 'Medium':\n",
    "        Neumaticos_Soft = False\n",
    "        Neumaticos_Medium = True\n",
    "        Neumaticos_Hard = False\n",
    "        Neumaticos_Inter = False\n",
    "        Neumaticos_Rain = False\n",
    "    elif Neumaticos == 'Hard':\n",
    "        Neumaticos_Soft = False\n",
    "        Neumaticos_Medium = False\n",
    "        Neumaticos_Hard = True\n",
    "        Neumaticos_Inter = False\n",
    "        Neumaticos_Rain = False\n",
    "    elif Neumaticos == 'Inter':\n",
    "        Neumaticos_Soft = False\n",
    "        Neumaticos_Medium = False\n",
    "        Neumaticos_Hard = False\n",
    "        Neumaticos_Inter = True\n",
    "        Neumaticos_Rain = False\n",
    "    else:\n",
    "        Neumaticos_Soft = False\n",
    "        Neumaticos_Medium = False\n",
    "        Neumaticos_Hard = False\n",
    "        Neumaticos_Inter = False\n",
    "        Neumaticos_Rain = True\n",
    "\n",
    "    if ModoPilotaje == 'Push':\n",
    "        ModoPilotaje_Push = True\n",
    "        ModoPilotaje_Balanced = False\n",
    "        ModoPilotaje_Save = False\n",
    "    elif ModoPilotaje == 'Balanced':\n",
    "        ModoPilotaje_Push = False\n",
    "        ModoPilotaje_Balanced = True\n",
    "        ModoPilotaje_Save = False\n",
    "    elif ModoPilotaje == 'Save':\n",
    "        ModoPilotaje_Push = False\n",
    "        ModoPilotaje_Balanced = False\n",
    "        ModoPilotaje_Save = True\n",
    "\n",
    "    if GomaEnpista == 'VeryLow':\n",
    "        GomaEnpista_VeryLow = True\n",
    "        GomaEnpista_Low = False\n",
    "        GomaEnpista_Average = False\n",
    "        GomaEnpista_High = False\n",
    "        GomaEnpista_VeryHigh = False\n",
    "    elif GomaEnpista == 'Low':\n",
    "        GomaEnpista_VeryLow = False\n",
    "        GomaEnpista_Low = True\n",
    "        GomaEnpista_Average = False\n",
    "        GomaEnpista_High = False\n",
    "        GomaEnpista_VeryHigh = False\n",
    "    elif GomaEnpista == 'Average':\n",
    "        GomaEnpista_VeryLow = False\n",
    "        GomaEnpista_Low = False\n",
    "        GomaEnpista_Average = True\n",
    "        GomaEnpista_High = False\n",
    "        GomaEnpista_VeryHigh = False\n",
    "    elif GomaEnpista == 'High':\n",
    "        GomaEnpista_VeryLow = False\n",
    "        GomaEnpista_Low = False\n",
    "        GomaEnpista_Average = False\n",
    "        GomaEnpista_High = True\n",
    "        GomaEnpista_VeryHigh = False\n",
    "    elif GomaEnpista == 'VeryHigh':\n",
    "        GomaEnpista_VeryLow = False\n",
    "        GomaEnpista_Low = False\n",
    "        GomaEnpista_Average = False\n",
    "        GomaEnpista_High = False\n",
    "        GomaEnpista_VeryHigh = True\n",
    "\n",
    "    if Agarre == 'Low':\n",
    "        Agarre_Low = True\n",
    "        Agarre_Average = False\n",
    "        Agarre_High = False\n",
    "        Agarre_VeryHigh = False\n",
    "    elif Agarre == 'Average':\n",
    "        Agarre_Low = False\n",
    "        Agarre_Average = True\n",
    "        Agarre_High = False\n",
    "        Agarre_VeryHigh = False\n",
    "    elif Agarre == 'High':\n",
    "        Agarre_Low = False\n",
    "        Agarre_Average = False\n",
    "        Agarre_High = True\n",
    "        Agarre_VeryHigh = False\n",
    "    elif Agarre == 'VeryHigh':\n",
    "        Agarre_Low = False\n",
    "        Agarre_Average = False\n",
    "        Agarre_High = False\n",
    "        Agarre_VeryHigh = True\n",
    "\n",
    "\n",
    "    new_df = pd.DataFrame({\n",
    "        \n",
    "        'Entrenamientos' : [sesion],\n",
    "        'CargaCombustible' : [CargaCombustible],\n",
    "        'Sobrecalentamiento' : [Sobrecalentamiento],\n",
    "        'VidaNeumatico' : [VidaNeumatico],\n",
    "        'CantidadAgua' : [agua],\n",
    "        'ConfianzaPilotoPista' : [confpilotopista],\n",
    "        'ConfianzaPilotoCoche' : [confpilotocoche],\n",
    "        'Piloto' : [piloto],\n",
    "        'CombustibleAlto' : [combustible],\n",
    "        'Circuito_Australia' : [Circuito_Australia],\n",
    "        'Circuito_Bahrein' : [Circuito_Barein],\n",
    "        'Circuito_Imola' : [Circuito_Imola],\n",
    "        'Circuito_Jeddah' : [Circuito_Jeddah],\n",
    "        'Circuito_Miami' : [Circuito_Miami],\n",
    "        'Neumáticos_Hard' : [Neumaticos_Hard],\n",
    "        'Neumáticos_Inter' : [Neumaticos_Inter],\n",
    "        'Neumáticos_Medium' : [Neumaticos_Medium],\n",
    "        'Neumáticos_Rain' : [Neumaticos_Rain],\n",
    "        'Neumáticos_Soft' : [Neumaticos_Soft],\n",
    "        'ModoPilotaje_Balanced' : [ModoPilotaje_Balanced],\n",
    "        'ModoPilotaje_Push' : [ModoPilotaje_Push],\n",
    "        'ModoPilotaje_Save' : [ModoPilotaje_Save],\n",
    "        'GomaEnPista_Average' : [GomaEnpista_Average],\n",
    "        'GomaEnPista_High' : [GomaEnpista_High],\n",
    "        'GomaEnPista_Low' : [GomaEnpista_Low],\n",
    "        'GomaEnPista_VeryHigh' : [GomaEnpista_VeryHigh],\n",
    "        'GomaEnPista_VeryLow' : [GomaEnpista_VeryLow],\n",
    "        'AgarreAsfalto_Average' : [Agarre_Average],\n",
    "        'AgarreAsfalto_High' : [Agarre_High],\n",
    "        'AgarreAsfalto_Low' : [Agarre_Low],\n",
    "        'AgarreAsfalto_VeryHigh' : [Agarre_VeryHigh]\n",
    "    })\n",
    "\n",
    "    return new_df"
   ]
  }
 ],
 "metadata": {
  "kernelspec": {
   "display_name": "Python 3",
   "language": "python",
   "name": "python3"
  },
  "language_info": {
   "codemirror_mode": {
    "name": "ipython",
    "version": 3
   },
   "file_extension": ".py",
   "mimetype": "text/x-python",
   "name": "python",
   "nbconvert_exporter": "python",
   "pygments_lexer": "ipython3",
   "version": "3.9.6"
  }
 },
 "nbformat": 4,
 "nbformat_minor": 2
}

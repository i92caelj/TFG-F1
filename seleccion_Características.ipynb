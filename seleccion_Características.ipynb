{
 "cells": [
  {
   "cell_type": "markdown",
   "metadata": {},
   "source": [
    "Ahora vamos a analizar que variables son las que tienen una mayor importancia a la hora de determinar el tiempo por vuelta."
   ]
  },
  {
   "cell_type": "markdown",
   "metadata": {},
   "source": [
    "Primero implementamos el dataset y entrenamos el modelo que hayamos elegido."
   ]
  },
  {
   "cell_type": "code",
   "execution_count": 3,
   "metadata": {},
   "outputs": [],
   "source": [
    "import pandas as pd\n",
    "from sklearn.preprocessing import LabelEncoder, KBinsDiscretizer\n",
    "from sklearn.preprocessing import MinMaxScaler\n"
   ]
  },
  {
   "cell_type": "code",
   "execution_count": 6,
   "metadata": {},
   "outputs": [
    {
     "name": "stderr",
     "output_type": "stream",
     "text": [
      "/Users/javice/Library/Python/3.9/lib/python/site-packages/sklearn/preprocessing/_discretization.py:248: FutureWarning: In version 1.5 onwards, subsample=200_000 will be used by default. Set subsample explicitly to silence this warning in the mean time. Set subsample=None to disable subsampling explicitly.\n",
      "  warnings.warn(\n",
      "/Users/javice/Library/Python/3.9/lib/python/site-packages/sklearn/preprocessing/_discretization.py:248: FutureWarning: In version 1.5 onwards, subsample=200_000 will be used by default. Set subsample explicitly to silence this warning in the mean time. Set subsample=None to disable subsampling explicitly.\n",
      "  warnings.warn(\n"
     ]
    }
   ],
   "source": [
    "# Ruta al archivo CSV\n",
    "archivo_csv = 'Datasets/240310F1_Dataset.csv'\n",
    "encoder = LabelEncoder()\n",
    "# Leer el archivo CSV\n",
    "df_F1 = pd.read_csv(archivo_csv)\n",
    "\n",
    "\n",
    "df_F1.drop('DesgasteVuelta', axis=1, inplace=True)\n",
    "df_F1.drop('Clima', axis=1, inplace=True)\n",
    "df_F1.drop('TemperaturaPista', axis=1, inplace=True)\n",
    "\n",
    "encoder = LabelEncoder()\n",
    "df_F1['Piloto'] = encoder.fit_transform(df_F1['Piloto'])\n",
    "\n",
    "fuel_discretizer = KBinsDiscretizer(n_bins=20, encode='ordinal', strategy='uniform')\n",
    "Wheel_life_discretizer = KBinsDiscretizer(n_bins = 6, encode='ordinal', strategy='uniform')\n",
    "Trust_Discretizer = KBinsDiscretizer(n_bins=3, encode='ordinal', strategy='uniform')\n",
    "#Water_Discretizer = KBinsDiscretizer(n_bins=5, encode='ordinal', strategy='uniform')\n",
    "\n",
    "#df_F1['CargaCombustible'] = fuel_discretizer.fit_transform(df_F1[['CargaCombustible']])\n",
    "#df_F1['VidaNeumatico'] = Wheel_life_discretizer.fit_transform(df_F1[['VidaNeumatico']])\n",
    "df_F1['ConfianzaPilotoCoche'] = Trust_Discretizer.fit_transform(df_F1[['ConfianzaPilotoCoche']])\n",
    "df_F1['ConfianzaPilotoPista'] = Trust_Discretizer.fit_transform(df_F1[['ConfianzaPilotoPista']])\n",
    "#df_F1['CantidadAgua'] = Water_Discretizer.fit_transform(df_F1[['CantidadAgua']])\n",
    "\n",
    "df_F1.dropna(inplace=True)\n",
    "\n",
    "# Eliminar filas donde 'SafetyCar' es True\n",
    "df_F1 = df_F1[df_F1['SafetyCar'] == False]\n",
    "df_F1.drop('SafetyCar', axis=1, inplace=True)\n",
    "\n",
    "\n",
    "# Eliminar filas donde haya trafico ya que no son representativas.\n",
    "df_F1 = df_F1[df_F1['Trafico'] == False]\n",
    "df_F1.drop('Trafico', axis=1, inplace=True)\n",
    "\n",
    "\n",
    "df_F1 = pd.get_dummies(df_F1, columns = ['Circuito'] )\n",
    "df_F1 = pd.get_dummies(df_F1, columns = ['Neumáticos'] )\n",
    "df_F1 = pd.get_dummies(df_F1, columns = ['ModoPilotaje'] )\n",
    "df_F1 = pd.get_dummies(df_F1, columns = ['GomaEnPista'] )\n",
    "df_F1 = pd.get_dummies(df_F1, columns = ['AgarreAsfalto'] )\n",
    "\n"
   ]
  },
  {
   "cell_type": "code",
   "execution_count": 7,
   "metadata": {},
   "outputs": [],
   "source": [
    "\n",
    "# Selecting the 'CargaCombustible' column\n",
    "carga_combustible = df_F1['CargaCombustible'].values.reshape(-1, 1)\n",
    "\n",
    "min_max_scaler = MinMaxScaler()\n",
    "carga_combustible_minmax = min_max_scaler.fit_transform(carga_combustible)\n",
    "\n",
    "df_F1['CargaCombustible'] = carga_combustible_minmax\n",
    "\n",
    "\n",
    "# Selecting the 'VidaNeumatico' column\n",
    "Vida_neumatico = df_F1['VidaNeumatico'].values.reshape(-1, 1)\n",
    "\n",
    "vida_neumatico_min_max = min_max_scaler.fit_transform(Vida_neumatico)\n",
    "\n",
    "df_F1['VidaNeumatico'] = vida_neumatico_min_max\n",
    "\n",
    "\n",
    "# Selecting the 'CantidadAgua' column\n",
    "Cantidad_Agua = df_F1['CantidadAgua'].values.reshape(-1, 1)\n",
    "\n",
    "Cantidad_Agua_min_max = min_max_scaler.fit_transform(Cantidad_Agua)\n",
    "\n",
    "df_F1['CantidadAgua'] = Cantidad_Agua_min_max\n",
    "\n",
    "\n",
    "X = df_F1.drop('TiempoVuelta', axis=1)\n",
    "Y = df_F1[['TiempoVuelta']]"
   ]
  },
  {
   "cell_type": "markdown",
   "metadata": {},
   "source": [
    "Entrenamos el random forest ya que es el modelo que mejores resultados nos ha dado:"
   ]
  },
  {
   "cell_type": "code",
   "execution_count": 3,
   "metadata": {},
   "outputs": [],
   "source": [
    "from sklearn.ensemble import RandomForestRegressor"
   ]
  },
  {
   "cell_type": "code",
   "execution_count": 9,
   "metadata": {},
   "outputs": [
    {
     "name": "stderr",
     "output_type": "stream",
     "text": [
      "/Users/javice/Library/Python/3.9/lib/python/site-packages/sklearn/base.py:1152: DataConversionWarning: A column-vector y was passed when a 1d array was expected. Please change the shape of y to (n_samples,), for example using ravel().\n",
      "  return fit_method(estimator, *args, **kwargs)\n"
     ]
    },
    {
     "data": {
      "text/html": [
       "<style>#sk-container-id-1 {color: black;}#sk-container-id-1 pre{padding: 0;}#sk-container-id-1 div.sk-toggleable {background-color: white;}#sk-container-id-1 label.sk-toggleable__label {cursor: pointer;display: block;width: 100%;margin-bottom: 0;padding: 0.3em;box-sizing: border-box;text-align: center;}#sk-container-id-1 label.sk-toggleable__label-arrow:before {content: \"▸\";float: left;margin-right: 0.25em;color: #696969;}#sk-container-id-1 label.sk-toggleable__label-arrow:hover:before {color: black;}#sk-container-id-1 div.sk-estimator:hover label.sk-toggleable__label-arrow:before {color: black;}#sk-container-id-1 div.sk-toggleable__content {max-height: 0;max-width: 0;overflow: hidden;text-align: left;background-color: #f0f8ff;}#sk-container-id-1 div.sk-toggleable__content pre {margin: 0.2em;color: black;border-radius: 0.25em;background-color: #f0f8ff;}#sk-container-id-1 input.sk-toggleable__control:checked~div.sk-toggleable__content {max-height: 200px;max-width: 100%;overflow: auto;}#sk-container-id-1 input.sk-toggleable__control:checked~label.sk-toggleable__label-arrow:before {content: \"▾\";}#sk-container-id-1 div.sk-estimator input.sk-toggleable__control:checked~label.sk-toggleable__label {background-color: #d4ebff;}#sk-container-id-1 div.sk-label input.sk-toggleable__control:checked~label.sk-toggleable__label {background-color: #d4ebff;}#sk-container-id-1 input.sk-hidden--visually {border: 0;clip: rect(1px 1px 1px 1px);clip: rect(1px, 1px, 1px, 1px);height: 1px;margin: -1px;overflow: hidden;padding: 0;position: absolute;width: 1px;}#sk-container-id-1 div.sk-estimator {font-family: monospace;background-color: #f0f8ff;border: 1px dotted black;border-radius: 0.25em;box-sizing: border-box;margin-bottom: 0.5em;}#sk-container-id-1 div.sk-estimator:hover {background-color: #d4ebff;}#sk-container-id-1 div.sk-parallel-item::after {content: \"\";width: 100%;border-bottom: 1px solid gray;flex-grow: 1;}#sk-container-id-1 div.sk-label:hover label.sk-toggleable__label {background-color: #d4ebff;}#sk-container-id-1 div.sk-serial::before {content: \"\";position: absolute;border-left: 1px solid gray;box-sizing: border-box;top: 0;bottom: 0;left: 50%;z-index: 0;}#sk-container-id-1 div.sk-serial {display: flex;flex-direction: column;align-items: center;background-color: white;padding-right: 0.2em;padding-left: 0.2em;position: relative;}#sk-container-id-1 div.sk-item {position: relative;z-index: 1;}#sk-container-id-1 div.sk-parallel {display: flex;align-items: stretch;justify-content: center;background-color: white;position: relative;}#sk-container-id-1 div.sk-item::before, #sk-container-id-1 div.sk-parallel-item::before {content: \"\";position: absolute;border-left: 1px solid gray;box-sizing: border-box;top: 0;bottom: 0;left: 50%;z-index: -1;}#sk-container-id-1 div.sk-parallel-item {display: flex;flex-direction: column;z-index: 1;position: relative;background-color: white;}#sk-container-id-1 div.sk-parallel-item:first-child::after {align-self: flex-end;width: 50%;}#sk-container-id-1 div.sk-parallel-item:last-child::after {align-self: flex-start;width: 50%;}#sk-container-id-1 div.sk-parallel-item:only-child::after {width: 0;}#sk-container-id-1 div.sk-dashed-wrapped {border: 1px dashed gray;margin: 0 0.4em 0.5em 0.4em;box-sizing: border-box;padding-bottom: 0.4em;background-color: white;}#sk-container-id-1 div.sk-label label {font-family: monospace;font-weight: bold;display: inline-block;line-height: 1.2em;}#sk-container-id-1 div.sk-label-container {text-align: center;}#sk-container-id-1 div.sk-container {/* jupyter's `normalize.less` sets `[hidden] { display: none; }` but bootstrap.min.css set `[hidden] { display: none !important; }` so we also need the `!important` here to be able to override the default hidden behavior on the sphinx rendered scikit-learn.org. See: https://github.com/scikit-learn/scikit-learn/issues/21755 */display: inline-block !important;position: relative;}#sk-container-id-1 div.sk-text-repr-fallback {display: none;}</style><div id=\"sk-container-id-1\" class=\"sk-top-container\"><div class=\"sk-text-repr-fallback\"><pre>RandomForestRegressor(n_estimators=200)</pre><b>In a Jupyter environment, please rerun this cell to show the HTML representation or trust the notebook. <br />On GitHub, the HTML representation is unable to render, please try loading this page with nbviewer.org.</b></div><div class=\"sk-container\" hidden><div class=\"sk-item\"><div class=\"sk-estimator sk-toggleable\"><input class=\"sk-toggleable__control sk-hidden--visually\" id=\"sk-estimator-id-1\" type=\"checkbox\" checked><label for=\"sk-estimator-id-1\" class=\"sk-toggleable__label sk-toggleable__label-arrow\">RandomForestRegressor</label><div class=\"sk-toggleable__content\"><pre>RandomForestRegressor(n_estimators=200)</pre></div></div></div></div></div>"
      ],
      "text/plain": [
       "RandomForestRegressor(n_estimators=200)"
      ]
     },
     "execution_count": 9,
     "metadata": {},
     "output_type": "execute_result"
    }
   ],
   "source": [
    "# Crear y entrenar el modelo\n",
    "model = RandomForestRegressor(n_estimators=200)\n",
    "model.fit(X, Y)"
   ]
  },
  {
   "cell_type": "markdown",
   "metadata": {},
   "source": [
    "La siguiente funcion, transforma los datos de entrada en datos preprocesados para ser tratados por el modelo."
   ]
  },
  {
   "cell_type": "code",
   "execution_count": 10,
   "metadata": {},
   "outputs": [],
   "source": [
    "def transform_data(Circuit, sesion, Neumaticos, ModoPilotaje, \n",
    "            CargaCombustible, GomaEnpista,\n",
    "            Agarre, Sobrecalentamiento, VidaNeumatico, agua, confpilotopista,\n",
    "            confpilotocoche, piloto, combustible):\n",
    "    \n",
    "    if piloto == \"Sainz\":\n",
    "        piloto = 0\n",
    "    else: piloto = 1\n",
    "\n",
    "\n",
    "    if Circuit == 'Bahrein':\n",
    "        Circuito_Barein = True\n",
    "        Circuito_Jeddah = False\n",
    "        Circuito_Australia = False\n",
    "        Circuito_Imola = False\n",
    "        Circuito_Miami = False\n",
    "    elif Circuit == 'Jeddah':\n",
    "        Circuito_Barein = False\n",
    "        Circuito_Jeddah = True\n",
    "        Circuito_Australia = False\n",
    "        Circuito_Imola = False\n",
    "        Circuito_Miami = False\n",
    "    elif Circuit == 'Australia':\n",
    "        Circuito_Barein = False\n",
    "        Circuito_Jeddah = False\n",
    "        Circuito_Australia = True\n",
    "        Circuito_Imola = False\n",
    "        Circuito_Miami = False\n",
    "    elif Circuit == 'Imola':\n",
    "        Circuito_Barein = False\n",
    "        Circuito_Jeddah = False\n",
    "        Circuito_Australia = False\n",
    "        Circuito_Imola = True\n",
    "        Circuito_Miami = False\n",
    "    elif Circuit == 'Miami':\n",
    "        Circuito_Barein = False\n",
    "        Circuito_Jeddah = False\n",
    "        Circuito_Australia = False\n",
    "        Circuito_Imola = False\n",
    "        Circuito_Miami = True\n",
    "    \n",
    "\n",
    "    if Neumaticos == 'Soft':\n",
    "        Neumaticos_Soft = True\n",
    "        Neumaticos_Medium = False\n",
    "        Neumaticos_Hard = False\n",
    "        Neumaticos_Inter = False\n",
    "        Neumaticos_Rain = False\n",
    "    elif Neumaticos == 'Medium':\n",
    "        Neumaticos_Soft = False\n",
    "        Neumaticos_Medium = True\n",
    "        Neumaticos_Hard = False\n",
    "        Neumaticos_Inter = False\n",
    "        Neumaticos_Rain = False\n",
    "    elif Neumaticos == 'Hard':\n",
    "        Neumaticos_Soft = False\n",
    "        Neumaticos_Medium = False\n",
    "        Neumaticos_Hard = True\n",
    "        Neumaticos_Inter = False\n",
    "        Neumaticos_Rain = False\n",
    "    elif Neumaticos == 'Inter':\n",
    "        Neumaticos_Soft = False\n",
    "        Neumaticos_Medium = False\n",
    "        Neumaticos_Hard = False\n",
    "        Neumaticos_Inter = True\n",
    "        Neumaticos_Rain = False\n",
    "    else:\n",
    "        Neumaticos_Soft = False\n",
    "        Neumaticos_Medium = False\n",
    "        Neumaticos_Hard = False\n",
    "        Neumaticos_Inter = False\n",
    "        Neumaticos_Rain = True\n",
    "\n",
    "    if ModoPilotaje == 'Push':\n",
    "        ModoPilotaje_Push = True\n",
    "        ModoPilotaje_Balanced = False\n",
    "        ModoPilotaje_Save = False\n",
    "    elif ModoPilotaje == 'Balanced':\n",
    "        ModoPilotaje_Push = False\n",
    "        ModoPilotaje_Balanced = True\n",
    "        ModoPilotaje_Save = False\n",
    "    elif ModoPilotaje == 'Save':\n",
    "        ModoPilotaje_Push = False\n",
    "        ModoPilotaje_Balanced = False\n",
    "        ModoPilotaje_Save = True\n",
    "\n",
    "    if GomaEnpista == 'VeryLow':\n",
    "        GomaEnpista_VeryLow = True\n",
    "        GomaEnpista_Low = False\n",
    "        GomaEnpista_Average = False\n",
    "        GomaEnpista_High = False\n",
    "        GomaEnpista_VeryHigh = False\n",
    "    elif GomaEnpista == 'Low':\n",
    "        GomaEnpista_VeryLow = False\n",
    "        GomaEnpista_Low = True\n",
    "        GomaEnpista_Average = False\n",
    "        GomaEnpista_High = False\n",
    "        GomaEnpista_VeryHigh = False\n",
    "    elif GomaEnpista == 'Average':\n",
    "        GomaEnpista_VeryLow = False\n",
    "        GomaEnpista_Low = False\n",
    "        GomaEnpista_Average = True\n",
    "        GomaEnpista_High = False\n",
    "        GomaEnpista_VeryHigh = False\n",
    "    elif GomaEnpista == 'High':\n",
    "        GomaEnpista_VeryLow = False\n",
    "        GomaEnpista_Low = False\n",
    "        GomaEnpista_Average = False\n",
    "        GomaEnpista_High = True\n",
    "        GomaEnpista_VeryHigh = False\n",
    "    elif GomaEnpista == 'VeryHigh':\n",
    "        GomaEnpista_VeryLow = False\n",
    "        GomaEnpista_Low = False\n",
    "        GomaEnpista_Average = False\n",
    "        GomaEnpista_High = False\n",
    "        GomaEnpista_VeryHigh = True\n",
    "\n",
    "    if Agarre == 'Low':\n",
    "        Agarre_Low = True\n",
    "        Agarre_Average = False\n",
    "        Agarre_High = False\n",
    "        Agarre_VeryHigh = False\n",
    "    elif Agarre == 'Average':\n",
    "        Agarre_Low = False\n",
    "        Agarre_Average = True\n",
    "        Agarre_High = False\n",
    "        Agarre_VeryHigh = False\n",
    "    elif Agarre == 'High':\n",
    "        Agarre_Low = False\n",
    "        Agarre_Average = False\n",
    "        Agarre_High = True\n",
    "        Agarre_VeryHigh = False\n",
    "    elif Agarre == 'VeryHigh':\n",
    "        Agarre_Low = False\n",
    "        Agarre_Average = False\n",
    "        Agarre_High = False\n",
    "        Agarre_VeryHigh = True\n",
    "\n",
    "\n",
    "    new_df = pd.DataFrame({\n",
    "        \n",
    "        'Entrenamientos' : [sesion],\n",
    "        'CargaCombustible' : [CargaCombustible],\n",
    "        'Sobrecalentamiento' : [Sobrecalentamiento],\n",
    "        'VidaNeumatico' : [VidaNeumatico],\n",
    "        'CantidadAgua' : [agua],\n",
    "        'ConfianzaPilotoPista' : [confpilotopista],\n",
    "        'ConfianzaPilotoCoche' : [confpilotocoche],\n",
    "        'Piloto' : [piloto],\n",
    "        'CombustibleAlto' : [combustible],\n",
    "        'Circuito_Australia' : [Circuito_Australia],\n",
    "        'Circuito_Bahrein' : [Circuito_Barein],\n",
    "        'Circuito_Imola' : [Circuito_Imola],\n",
    "        'Circuito_Jeddah' : [Circuito_Jeddah],\n",
    "        'Circuito_Miami' : [Circuito_Miami],\n",
    "        'Neumáticos_Hard' : [Neumaticos_Hard],\n",
    "        'Neumáticos_Inter' : [Neumaticos_Inter],\n",
    "        'Neumáticos_Medium' : [Neumaticos_Medium],\n",
    "        'Neumáticos_Rain' : [Neumaticos_Rain],\n",
    "        'Neumáticos_Soft' : [Neumaticos_Soft],\n",
    "        'ModoPilotaje_Balanced' : [ModoPilotaje_Balanced],\n",
    "        'ModoPilotaje_Push' : [ModoPilotaje_Push],\n",
    "        'ModoPilotaje_Save' : [ModoPilotaje_Save],\n",
    "        'GomaEnPista_Average' : [GomaEnpista_Average],\n",
    "        'GomaEnPista_High' : [GomaEnpista_High],\n",
    "        'GomaEnPista_Low' : [GomaEnpista_Low],\n",
    "        'GomaEnPista_VeryHigh' : [GomaEnpista_VeryHigh],\n",
    "        'GomaEnPista_VeryLow' : [GomaEnpista_VeryLow],\n",
    "        'AgarreAsfalto_Average' : [Agarre_Average],\n",
    "        'AgarreAsfalto_High' : [Agarre_High],\n",
    "        'AgarreAsfalto_Low' : [Agarre_Low],\n",
    "        'AgarreAsfalto_VeryHigh' : [Agarre_VeryHigh]\n",
    "    })\n",
    "\n",
    "    return new_df"
   ]
  },
  {
   "cell_type": "markdown",
   "metadata": {},
   "source": [
    "Ahora vamos a ver la influencia de las diferentes variables en el tiempo por vuelta.\n",
    "\n",
    "Para ello vamos a probar a predecir el tiempo por vuelta con unas caracteristicas por defecto, y alterando únicamente una característica, veremos en que medida altera el tiempo por vuelta."
   ]
  },
  {
   "cell_type": "markdown",
   "metadata": {},
   "source": [
    "Vamos a probar cambiando el circuito en el que se corre."
   ]
  },
  {
   "cell_type": "code",
   "execution_count": 11,
   "metadata": {},
   "outputs": [],
   "source": [
    "new_df0 = transform_data(\"Bahrein\", True, \"Soft\", \"Push\", 0.15, \"VeryHigh\", \"VeryHigh\", False, 0.745, 0, 2, 2, \"Sainz\", True)\n",
    "new_df1 = transform_data(\"Imola\", True, \"Soft\", \"Push\", 0.15, \"VeryHigh\", \"VeryHigh\", False, 0.745, 0, 2, 2, \"Sainz\", True)\n",
    "new_df2 = transform_data(\"Miami\", True, \"Soft\", \"Push\", 0.15, \"VeryHigh\", \"VeryHigh\", False, 0.745, 0, 2, 2, \"Sainz\", True)\n",
    "new_df3 = transform_data(\"Australia\", True, \"Soft\", \"Push\", 0.15, \"VeryHigh\", \"VeryHigh\", False, 0.745, 0, 2, 2, \"Sainz\", True)\n"
   ]
  },
  {
   "cell_type": "code",
   "execution_count": 12,
   "metadata": {},
   "outputs": [
    {
     "name": "stdout",
     "output_type": "stream",
     "text": [
      "[94.33415]\n",
      "[77.388265]\n",
      "[91.912465]\n",
      "[81.444415]\n"
     ]
    }
   ],
   "source": [
    "print(model.predict(new_df0))\n",
    "print(model.predict(new_df1))\n",
    "print(model.predict(new_df2))\n",
    "print(model.predict(new_df3))"
   ]
  },
  {
   "cell_type": "markdown",
   "metadata": {},
   "source": [
    "Ahora vamos a probar a alterar la variable de el tipo de sesión en el que nos encontramos. Si entrenamientos o carrera."
   ]
  },
  {
   "cell_type": "code",
   "execution_count": 13,
   "metadata": {},
   "outputs": [],
   "source": [
    "new_df0 = transform_data(\"Bahrein\", True, \"Soft\", \"Push\", 0.15, \"VeryHigh\", \"VeryHigh\", False, 0.745, 0, 2, 2, \"Sainz\", True)\n",
    "new_df1 = transform_data(\"Bahrein\", False, \"Soft\", \"Push\", 0.15, \"VeryHigh\", \"VeryHigh\", False, 0.745, 0, 2, 2, \"Sainz\", True)\n",
    "new_df2 = transform_data(\"Imola\", True, \"Soft\", \"Push\", 0.15, \"VeryHigh\", \"VeryHigh\", False, 0.745, 0, 2, 2, \"Sainz\", True)\n",
    "new_df3 = transform_data(\"Imola\", False, \"Soft\", \"Push\", 0.15, \"VeryHigh\", \"VeryHigh\", False, 0.745, 0, 2, 2, \"Sainz\", True)\n",
    "new_df4 = transform_data(\"Jeddah\", True, \"Soft\", \"Push\", 0.15, \"VeryHigh\", \"VeryHigh\", False, 0.745, 0, 2, 2, \"Sainz\", True)\n",
    "new_df5 = transform_data(\"Jeddah\", False, \"Soft\", \"Push\", 0.15, \"VeryHigh\", \"VeryHigh\", False, 0.745, 0, 2, 2, \"Sainz\", True)"
   ]
  },
  {
   "cell_type": "code",
   "execution_count": 14,
   "metadata": {},
   "outputs": [
    {
     "name": "stdout",
     "output_type": "stream",
     "text": [
      "Circuito 1:\n",
      "[94.33415]\n",
      "[96.778305]\n",
      " \n",
      "Circuito 2:\n",
      "[77.388265]\n",
      "[77.40255]\n",
      " \n",
      "Circuito 3:\n",
      "[91.860645]\n",
      "[93.341885]\n"
     ]
    }
   ],
   "source": [
    "print(\"Circuito 1:\")\n",
    "print(model.predict(new_df0))\n",
    "print(model.predict(new_df1))\n",
    "print(\" \")\n",
    "print(\"Circuito 2:\")\n",
    "print(model.predict(new_df2))\n",
    "print(model.predict(new_df3))\n",
    "print(\" \")\n",
    "print(\"Circuito 3:\")\n",
    "print(model.predict(new_df4))\n",
    "print(model.predict(new_df5))"
   ]
  },
  {
   "cell_type": "markdown",
   "metadata": {},
   "source": [
    "Ahora vamos a probar el tipo de neumáticos:"
   ]
  },
  {
   "cell_type": "code",
   "execution_count": 57,
   "metadata": {},
   "outputs": [],
   "source": [
    "new_df0 = transform_data(\"Bahrein\", True, \"Soft\", \"Push\", 0.15, \"VeryHigh\", \"VeryHigh\", False, 0.745, 0, 2, 2, \"Sainz\", True)\n",
    "new_df1 = transform_data(\"Bahrein\", True, \"Medium\", \"Push\", 0.15, \"VeryHigh\", \"VeryHigh\", False, 0.745, 0, 2, 2, \"Sainz\", True)\n",
    "new_df2 = transform_data(\"Bahrein\", True, \"Hard\", \"Push\", 0.15, \"VeryHigh\", \"VeryHigh\", False, 0.745, 0, 2, 2, \"Sainz\", True)\n",
    "new_df3 = transform_data(\"Imola\", True, \"Soft\", \"Push\", 0.15, \"VeryHigh\", \"VeryHigh\", False, 0.745, 0, 2, 2, \"Sainz\", True)\n",
    "new_df4 = transform_data(\"Imola\", True, \"Medium\", \"Push\", 0.15, \"VeryHigh\", \"VeryHigh\", False, 0.745, 0, 2, 2, \"Sainz\", True)\n",
    "new_df5 = transform_data(\"Imola\", True, \"Hard\", \"Push\", 0.15, \"VeryHigh\", \"VeryHigh\", False, 0.745, 0, 2, 2, \"Sainz\", True)\n",
    "new_df6 = transform_data(\"Jeddah\", True, \"Soft\", \"Push\", 0.15, \"VeryHigh\", \"VeryHigh\", False, 0.745, 0, 2, 2, \"Sainz\", True)\n",
    "new_df7 = transform_data(\"Jeddah\", True, \"Medium\", \"Push\", 0.15, \"VeryHigh\", \"VeryHigh\", False, 0.745, 0, 2, 2, \"Sainz\", True)\n",
    "new_df8 = transform_data(\"Jeddah\", True, \"Hard\", \"Push\", 0.15, \"VeryHigh\", \"VeryHigh\", False, 0.745, 0, 2, 2, \"Sainz\", True)\n"
   ]
  },
  {
   "cell_type": "code",
   "execution_count": 58,
   "metadata": {},
   "outputs": [
    {
     "name": "stdout",
     "output_type": "stream",
     "text": [
      "Circuito 1:\n",
      "[94.239045]\n",
      "[96.15933]\n",
      "[97.75447]\n",
      " \n",
      "Circuito 2:\n",
      "[77.390705]\n",
      "[77.794545]\n",
      "[78.78913]\n",
      " \n",
      "Circuito 3:\n",
      "[91.85625]\n",
      "[92.494845]\n",
      "[92.744445]\n"
     ]
    }
   ],
   "source": [
    "print(\"Circuito 1:\")\n",
    "print(model.predict(new_df0))\n",
    "print(model.predict(new_df1))\n",
    "print(model.predict(new_df2))\n",
    "print(\" \")\n",
    "print(\"Circuito 2:\")\n",
    "print(model.predict(new_df3))\n",
    "print(model.predict(new_df4))\n",
    "print(model.predict(new_df5))\n",
    "print(\" \")\n",
    "print(\"Circuito 3:\")\n",
    "print(model.predict(new_df6))\n",
    "print(model.predict(new_df7))\n",
    "print(model.predict(new_df8))\n"
   ]
  },
  {
   "cell_type": "markdown",
   "metadata": {},
   "source": [
    "Ahora vamos a ver las diferencias entre los modos de conducción"
   ]
  },
  {
   "cell_type": "code",
   "execution_count": 60,
   "metadata": {},
   "outputs": [],
   "source": [
    "new_df0 = transform_data(\"Bahrein\", True, \"Medium\", \"Push\", 0.15, \"VeryHigh\", \"VeryHigh\", False, 0.745, 0, 2, 2, \"Sainz\", True)\n",
    "new_df1 = transform_data(\"Bahrein\", True, \"Medium\", \"Balanced\", 0.15, \"VeryHigh\", \"VeryHigh\", False, 0.745, 0, 2, 2, \"Sainz\", True)\n",
    "new_df2 = transform_data(\"Bahrein\", True, \"Medium\", \"Save\", 0.15, \"VeryHigh\", \"VeryHigh\", False, 0.745, 0, 2, 2, \"Sainz\", True)\n",
    "new_df3 = transform_data(\"Imola\", True, \"Medium\", \"Push\", 0.15, \"VeryHigh\", \"VeryHigh\", False, 0.745, 0, 2, 2, \"Sainz\", True)\n",
    "new_df4 = transform_data(\"Imola\", True, \"Medium\", \"Balanced\", 0.15, \"VeryHigh\", \"VeryHigh\", False, 0.745, 0, 2, 2, \"Sainz\", True)\n",
    "new_df5 = transform_data(\"Imola\", True, \"Medium\", \"Save\", 0.15, \"VeryHigh\", \"VeryHigh\", False, 0.745, 0, 2, 2, \"Sainz\", True)\n",
    "new_df6 = transform_data(\"Jeddah\", True, \"Medium\", \"Push\", 0.15, \"VeryHigh\", \"VeryHigh\", False, 0.745, 0, 2, 2, \"Sainz\", True)\n",
    "new_df7 = transform_data(\"Jeddah\", True, \"Medium\", \"Balanced\", 0.15, \"VeryHigh\", \"VeryHigh\", False, 0.745, 0, 2, 2, \"Sainz\", True)\n",
    "new_df8 = transform_data(\"Jeddah\", True, \"Medium\", \"Save\", 0.15, \"VeryHigh\", \"VeryHigh\", False, 0.745, 0, 2, 2, \"Sainz\", True)\n"
   ]
  },
  {
   "cell_type": "code",
   "execution_count": 61,
   "metadata": {},
   "outputs": [
    {
     "name": "stdout",
     "output_type": "stream",
     "text": [
      "Circuito 1:\n",
      "[96.15933]\n",
      "[96.38276]\n",
      "[96.55733]\n",
      " \n",
      "Circuito 2:\n",
      "[77.794545]\n",
      "[78.099705]\n",
      "[78.23117]\n",
      " \n",
      "Circuito 3:\n",
      "[92.494845]\n",
      "[92.82593]\n",
      "[93.216975]\n"
     ]
    }
   ],
   "source": [
    "print(\"Circuito 1:\")\n",
    "print(model.predict(new_df0))\n",
    "print(model.predict(new_df1))\n",
    "print(model.predict(new_df2))\n",
    "print(\" \")\n",
    "print(\"Circuito 2:\")\n",
    "print(model.predict(new_df3))\n",
    "print(model.predict(new_df4))\n",
    "print(model.predict(new_df5))\n",
    "print(\" \")\n",
    "print(\"Circuito 3:\")\n",
    "print(model.predict(new_df6))\n",
    "print(model.predict(new_df7))\n",
    "print(model.predict(new_df8))"
   ]
  },
  {
   "cell_type": "markdown",
   "metadata": {},
   "source": [
    "Ahora vamos a ver la influencia de la carga de combustible"
   ]
  },
  {
   "cell_type": "code",
   "execution_count": 66,
   "metadata": {},
   "outputs": [],
   "source": [
    "new_df0 = transform_data(\"Bahrein\", True, \"Medium\", \"Balanced\", 0.1, \"VeryHigh\", \"VeryHigh\", False, 0.745, 0, 2, 2, \"Sainz\", True)\n",
    "new_df1 = transform_data(\"Bahrein\", True, \"Medium\", \"Balanced\", 0.65, \"VeryHigh\", \"VeryHigh\", False, 0.745, 0, 2, 2, \"Sainz\", True)\n",
    "new_df2 = transform_data(\"Bahrein\", True, \"Medium\", \"Balanced\", 0.95, \"VeryHigh\", \"VeryHigh\", False, 0.745, 0, 2, 2, \"Sainz\", True)\n",
    "new_df3 = transform_data(\"Imola\", True, \"Medium\", \"Balanced\", 0.1, \"VeryHigh\", \"VeryHigh\", False, 0.745, 0, 2, 2, \"Sainz\", True)\n",
    "new_df4 = transform_data(\"Imola\", True, \"Medium\", \"Balanced\", 0.65, \"VeryHigh\", \"VeryHigh\", False, 0.745, 0, 2, 2, \"Sainz\", True)\n",
    "new_df5 = transform_data(\"Imola\", True, \"Medium\", \"Balanced\", 0.95, \"VeryHigh\", \"VeryHigh\", False, 0.745, 0, 2, 2, \"Sainz\", True)\n",
    "new_df6 = transform_data(\"Jeddah\", True, \"Medium\", \"Balanced\", 0.1, \"VeryHigh\", \"VeryHigh\", False, 0.745, 0, 2, 2, \"Sainz\", True)\n",
    "new_df7 = transform_data(\"Jeddah\", True, \"Medium\", \"Balanced\", 0.65, \"VeryHigh\", \"VeryHigh\", False, 0.745, 0, 2, 2, \"Sainz\", True)\n",
    "new_df8 = transform_data(\"Jeddah\", True, \"Medium\", \"Balanced\", 0.95, \"VeryHigh\", \"VeryHigh\", False, 0.745, 0, 2, 2, \"Sainz\", True)"
   ]
  },
  {
   "cell_type": "code",
   "execution_count": 67,
   "metadata": {},
   "outputs": [
    {
     "name": "stdout",
     "output_type": "stream",
     "text": [
      "Circuito 1:\n",
      "[96.47286]\n",
      "[96.512935]\n",
      "[96.96189]\n",
      " \n",
      "Circuito 2:\n",
      "[78.117225]\n",
      "[80.47663]\n",
      "[80.944785]\n",
      " \n",
      "Circuito 3:\n",
      "[92.82586]\n",
      "[94.00341]\n",
      "[95.34407]\n"
     ]
    }
   ],
   "source": [
    "print(\"Circuito 1:\")\n",
    "print(model.predict(new_df0))\n",
    "print(model.predict(new_df1))\n",
    "print(model.predict(new_df2))\n",
    "print(\" \")\n",
    "print(\"Circuito 2:\")\n",
    "print(model.predict(new_df3))\n",
    "print(model.predict(new_df4))\n",
    "print(model.predict(new_df5))\n",
    "print(\" \")\n",
    "print(\"Circuito 3:\")\n",
    "print(model.predict(new_df6))\n",
    "print(model.predict(new_df7))\n",
    "print(model.predict(new_df8))"
   ]
  },
  {
   "cell_type": "markdown",
   "metadata": {},
   "source": [
    "Ahora vamos a probar la goma en pista:"
   ]
  },
  {
   "cell_type": "code",
   "execution_count": 70,
   "metadata": {},
   "outputs": [],
   "source": [
    "new_df0 = transform_data(\"Bahrein\", True, \"Medium\", \"Balanced\", 0.5, \"VeryLow\", \"VeryHigh\", False, 0.745, 0, 2, 2, \"Sainz\", True)\n",
    "new_df1 = transform_data(\"Bahrein\", True, \"Medium\", \"Balanced\", 0.5, \"Average\", \"VeryHigh\", False, 0.745, 0, 2, 2, \"Sainz\", True)\n",
    "new_df2 = transform_data(\"Bahrein\", True, \"Medium\", \"Balanced\", 0.5, \"VeryHigh\", \"VeryHigh\", False, 0.745, 0, 2, 2, \"Sainz\", True)\n",
    "new_df3 = transform_data(\"Imola\", True, \"Medium\", \"Balanced\", 0.5, \"VeryLow\", \"VeryHigh\", False, 0.745, 0, 2, 2, \"Sainz\", True)\n",
    "new_df4 = transform_data(\"Imola\", True, \"Medium\", \"Balanced\", 0.5, \"Average\", \"VeryHigh\", False, 0.745, 0, 2, 2, \"Sainz\", True)\n",
    "new_df5 = transform_data(\"Imola\", True, \"Medium\", \"Balanced\", 0.5, \"VeryHigh\", \"VeryHigh\", False, 0.745, 0, 2, 2, \"Sainz\", True)\n",
    "new_df6 = transform_data(\"Jeddah\", True, \"Medium\", \"Balanced\", 0.5, \"VeryHigh\", \"VeryHigh\", False, 0.745, 0, 2, 2, \"Sainz\", True)\n",
    "new_df7 = transform_data(\"Jeddah\", True, \"Medium\", \"Balanced\", 0.5, \"Average\", \"VeryHigh\", False, 0.745, 0, 2, 2, \"Sainz\", True)\n",
    "new_df8 = transform_data(\"Jeddah\", True, \"Medium\", \"Balanced\", 0.5, \"VeryHigh\", \"VeryHigh\", False, 0.745, 0, 2, 2, \"Sainz\", True)"
   ]
  },
  {
   "cell_type": "code",
   "execution_count": 71,
   "metadata": {},
   "outputs": [
    {
     "name": "stdout",
     "output_type": "stream",
     "text": [
      "Circuito 1:\n",
      "[96.04319]\n",
      "[95.90045]\n",
      "[96.10854]\n",
      " \n",
      "Circuito 2:\n",
      "[78.495005]\n",
      "[78.49894]\n",
      "[78.495005]\n",
      " \n",
      "Circuito 3:\n",
      "[93.063005]\n",
      "[92.934365]\n",
      "[93.063005]\n"
     ]
    }
   ],
   "source": [
    "print(\"Circuito 1:\")\n",
    "print(model.predict(new_df0))\n",
    "print(model.predict(new_df1))\n",
    "print(model.predict(new_df2))\n",
    "print(\" \")\n",
    "print(\"Circuito 2:\")\n",
    "print(model.predict(new_df3))\n",
    "print(model.predict(new_df4))\n",
    "print(model.predict(new_df5))\n",
    "print(\" \")\n",
    "print(\"Circuito 3:\")\n",
    "print(model.predict(new_df6))\n",
    "print(model.predict(new_df7))\n",
    "print(model.predict(new_df8))"
   ]
  },
  {
   "cell_type": "markdown",
   "metadata": {},
   "source": [
    "Ahora vamos a probar el agarre en pista."
   ]
  },
  {
   "cell_type": "code",
   "execution_count": 111,
   "metadata": {},
   "outputs": [],
   "source": [
    "new_df0 = transform_data(\"Bahrein\", True, \"Medium\", \"Balanced\", 0.5, \"Average\", \"Low\", False, 0.745, 0, 2, 2, \"Sainz\", True)\n",
    "new_df1 = transform_data(\"Bahrein\", True, \"Medium\", \"Balanced\", 0.5, \"Average\", \"Average\", False, 0.745, 0, 2, 2, \"Sainz\", True)\n",
    "new_df2 = transform_data(\"Bahrein\", True, \"Medium\", \"Balanced\", 0.5, \"Average\", \"VeryHigh\", False, 0.745, 0, 2, 2, \"Sainz\", True)\n",
    "new_df3 = transform_data(\"Imola\", True, \"Medium\", \"Balanced\", 0.5, \"Average\", \"Low\", False, 0.745, 0, 2, 2, \"Sainz\", True)\n",
    "new_df4 = transform_data(\"Imola\", True, \"Medium\", \"Balanced\", 0.5, \"Average\", \"Average\", False, 0.745, 0, 2, 2, \"Sainz\", True)\n",
    "new_df5 = transform_data(\"Imola\", True, \"Medium\", \"Balanced\", 0.5, \"Average\", \"VeryHigh\", False, 0.745, 0, 2, 2, \"Sainz\", True)\n",
    "new_df6 = transform_data(\"Jeddah\", True, \"Medium\", \"Balanced\", 0.5, \"Average\", \"Low\", False, 0.745, 0, 2, 2, \"Sainz\", True)\n",
    "new_df7 = transform_data(\"Jeddah\", True, \"Medium\", \"Balanced\", 0.5, \"Average\", \"Average\", False, 0.745, 0, 2, 2, \"Sainz\", True)\n",
    "new_df8 = transform_data(\"Jeddah\", True, \"Medium\", \"Balanced\", 0.5, \"Average\", \"VeryHigh\", False, 0.745, 0, 2, 2, \"Sainz\", True)"
   ]
  },
  {
   "cell_type": "code",
   "execution_count": 112,
   "metadata": {},
   "outputs": [
    {
     "name": "stdout",
     "output_type": "stream",
     "text": [
      "Circuito 1:\n",
      "[95.81634]\n",
      "[95.835775]\n",
      "[95.90045]\n",
      " \n",
      "Circuito 2:\n",
      "[78.49894]\n",
      "[78.50682]\n",
      "[78.49894]\n",
      " \n",
      "Circuito 3:\n",
      "[92.92276]\n",
      "[92.9231]\n",
      "[92.934365]\n"
     ]
    }
   ],
   "source": [
    "print(\"Circuito 1:\")\n",
    "print(model.predict(new_df0))\n",
    "print(model.predict(new_df1))\n",
    "print(model.predict(new_df2))\n",
    "print(\" \")\n",
    "print(\"Circuito 2:\")\n",
    "print(model.predict(new_df3))\n",
    "print(model.predict(new_df4))\n",
    "print(model.predict(new_df5))\n",
    "print(\" \")\n",
    "print(\"Circuito 3:\")\n",
    "print(model.predict(new_df6))\n",
    "print(model.predict(new_df7))\n",
    "print(model.predict(new_df8))"
   ]
  },
  {
   "cell_type": "markdown",
   "metadata": {},
   "source": [
    "Ahora vamos a probar la vida del neumático:"
   ]
  },
  {
   "cell_type": "code",
   "execution_count": 149,
   "metadata": {},
   "outputs": [],
   "source": [
    "new_df0 = transform_data(\"Bahrein\", False, \"Soft\", \"Push\", 0.5, \"Average\", \"Average\", False, 0.95, 0, 2, 2, \"Sainz\", True)\n",
    "new_df1 = transform_data(\"Bahrein\", False, \"Soft\", \"Push\", 0.5, \"Average\", \"Average\", False, 0.45, 0, 2, 2, \"Sainz\", True)\n",
    "new_df2 = transform_data(\"Bahrein\", False, \"Soft\", \"Push\", 0.5, \"Average\", \"Average\", False, 0.05, 0, 2, 2, \"Sainz\", True)\n",
    "new_df3 = transform_data(\"Imola\", False, \"Soft\", \"Push\", 0.5, \"Average\", \"Average\", False, 0.95, 0, 2, 2, \"Sainz\", True)\n",
    "new_df4 = transform_data(\"Imola\", False, \"Soft\", \"Push\", 0.5, \"Average\", \"Average\", False, 0.45, 0, 2, 2, \"Sainz\", True)\n",
    "new_df5 = transform_data(\"Imola\", False, \"Soft\", \"Push\", 0.5, \"Average\", \"Average\", False, 0.05, 0, 2, 2, \"Sainz\", True)\n",
    "new_df6 = transform_data(\"Jeddah\", False, \"Soft\", \"Push\", 0.5, \"Average\", \"Average\", False, 0.95, 0, 2, 2, \"Sainz\", True)\n",
    "new_df7 = transform_data(\"Jeddah\", False, \"Soft\", \"Push\", 0.5, \"Average\", \"Average\", False, 0.45, 0, 2, 2, \"Sainz\", True)\n",
    "new_df8 = transform_data(\"Jeddah\", False, \"Soft\", \"Push\", 0.5, \"Average\", \"Average\", False, 0.05, 0, 2, 2, \"Sainz\", True)"
   ]
  },
  {
   "cell_type": "code",
   "execution_count": 150,
   "metadata": {},
   "outputs": [
    {
     "name": "stdout",
     "output_type": "stream",
     "text": [
      "Circuito 1:\n",
      "[97.523435]\n",
      "[97.969875]\n",
      "[98.69513]\n",
      " \n",
      "Circuito 2:\n",
      "[77.603775]\n",
      "[77.676385]\n",
      "[77.81432]\n",
      " \n",
      "Circuito 3:\n",
      "[94.64538]\n",
      "[95.08465]\n",
      "[95.078495]\n"
     ]
    }
   ],
   "source": [
    "print(\"Circuito 1:\")\n",
    "print(model.predict(new_df0))\n",
    "print(model.predict(new_df1))\n",
    "print(model.predict(new_df2))\n",
    "print(\" \")\n",
    "print(\"Circuito 2:\")\n",
    "print(model.predict(new_df3))\n",
    "print(model.predict(new_df4))\n",
    "print(model.predict(new_df5))\n",
    "print(\" \")\n",
    "print(\"Circuito 3:\")\n",
    "print(model.predict(new_df6))\n",
    "print(model.predict(new_df7))\n",
    "print(model.predict(new_df8))"
   ]
  },
  {
   "cell_type": "markdown",
   "metadata": {},
   "source": [
    "Ahora vamos a probar la confianza en la pista:"
   ]
  },
  {
   "cell_type": "code",
   "execution_count": 98,
   "metadata": {},
   "outputs": [],
   "source": [
    "new_df0 = transform_data(\"Bahrein\", True, \"Soft\", \"Push\", 0.5, \"Average\", \"Average\", False, 0.5, 0, 0, 2, \"Sainz\", True)\n",
    "new_df1 = transform_data(\"Bahrein\", True, \"Soft\", \"Push\", 0.5, \"Average\", \"Average\", False, 0.5, 0, 1, 2, \"Sainz\", True)\n",
    "new_df2 = transform_data(\"Bahrein\", True, \"Soft\", \"Push\", 0.5, \"Average\", \"Average\", False, 0.5, 0, 2, 2, \"Sainz\", True)\n",
    "new_df3 = transform_data(\"Imola\", True, \"Soft\", \"Push\", 0.5, \"Average\", \"Average\", False, 0.5, 0, 0, 2, \"Sainz\", True)\n",
    "new_df4 = transform_data(\"Imola\", True, \"Soft\", \"Push\", 0.5, \"Average\", \"Average\", False, 0.5, 0, 1, 2, \"Sainz\", True)\n",
    "new_df5 = transform_data(\"Imola\", True, \"Soft\", \"Push\", 0.5, \"Average\", \"Average\", False, 0.5, 0, 2, 2, \"Sainz\", True)\n",
    "new_df6 = transform_data(\"Jeddah\", True, \"Soft\", \"Push\", 0.5, \"Average\", \"Average\", False, 0.5, 0, 0, 2, \"Sainz\", True)\n",
    "new_df7 = transform_data(\"Jeddah\", True, \"Soft\", \"Push\", 0.5, \"Average\", \"Average\", False, 0.5, 0, 1, 2, \"Sainz\", True)\n",
    "new_df8 = transform_data(\"Jeddah\", True, \"Soft\", \"Push\", 0.5, \"Average\", \"Average\", False, 0.5, 0, 2, 2, \"Sainz\", True)"
   ]
  },
  {
   "cell_type": "code",
   "execution_count": 99,
   "metadata": {},
   "outputs": [
    {
     "name": "stdout",
     "output_type": "stream",
     "text": [
      "Circuito 1:\n",
      "[95.011415]\n",
      "[95.01602]\n",
      "[94.917175]\n",
      " \n",
      "Circuito 2:\n",
      "[77.49228]\n",
      "[77.49228]\n",
      "[77.51655]\n",
      " \n",
      "Circuito 3:\n",
      "[92.180335]\n",
      "[92.13225]\n",
      "[92.13523]\n"
     ]
    }
   ],
   "source": [
    "print(\"Circuito 1:\")\n",
    "print(model.predict(new_df0))\n",
    "print(model.predict(new_df1))\n",
    "print(model.predict(new_df2))\n",
    "print(\" \")\n",
    "print(\"Circuito 2:\")\n",
    "print(model.predict(new_df3))\n",
    "print(model.predict(new_df4))\n",
    "print(model.predict(new_df5))\n",
    "print(\" \")\n",
    "print(\"Circuito 3:\")\n",
    "print(model.predict(new_df6))\n",
    "print(model.predict(new_df7))\n",
    "print(model.predict(new_df8))"
   ]
  },
  {
   "cell_type": "markdown",
   "metadata": {},
   "source": [
    "Ahora vamos a probar la confianza en el coche:"
   ]
  },
  {
   "cell_type": "code",
   "execution_count": 151,
   "metadata": {},
   "outputs": [],
   "source": [
    "new_df0 = transform_data(\"Bahrein\", True, \"Soft\", \"Push\", 0.5, \"Average\", \"Average\", False, 0.5, 0, 2, 0, \"Sainz\", True)\n",
    "new_df1 = transform_data(\"Bahrein\", True, \"Soft\", \"Push\", 0.5, \"Average\", \"Average\", False, 0.5, 0, 2, 1, \"Sainz\", True)\n",
    "new_df2 = transform_data(\"Bahrein\", True, \"Soft\", \"Push\", 0.5, \"Average\", \"Average\", False, 0.5, 0, 2, 2, \"Sainz\", True)\n",
    "new_df3 = transform_data(\"Imola\", True, \"Soft\", \"Push\", 0.5, \"Average\", \"Average\", False, 0.5, 0, 2, 0, \"Sainz\", True)\n",
    "new_df4 = transform_data(\"Imola\", True, \"Soft\", \"Push\", 0.5, \"Average\", \"Average\", False, 0.5, 0, 2, 1, \"Sainz\", True)\n",
    "new_df5 = transform_data(\"Imola\", True, \"Soft\", \"Push\", 0.5, \"Average\", \"Average\", False, 0.5, 0, 2, 2, \"Sainz\", True)\n",
    "new_df6 = transform_data(\"Jeddah\", True, \"Soft\", \"Push\", 0.5, \"Average\", \"Average\", False, 0.5, 0, 2, 0, \"Sainz\", True)\n",
    "new_df7 = transform_data(\"Jeddah\", True, \"Soft\", \"Push\", 0.5, \"Average\", \"Average\", False, 0.5, 0, 2, 1, \"Sainz\", True)\n",
    "new_df8 = transform_data(\"Jeddah\", True, \"Soft\", \"Push\", 0.5, \"Average\", \"Average\", False, 0.5, 0, 2, 2, \"Sainz\", True)"
   ]
  },
  {
   "cell_type": "code",
   "execution_count": 101,
   "metadata": {},
   "outputs": [
    {
     "name": "stdout",
     "output_type": "stream",
     "text": [
      "Circuito 1:\n",
      "[94.988905]\n",
      "[94.988905]\n",
      "[94.917175]\n",
      " \n",
      "Circuito 2:\n",
      "[77.51655]\n",
      "[77.51655]\n",
      "[77.51655]\n",
      " \n",
      "Circuito 3:\n",
      "[92.185115]\n",
      "[92.13102]\n",
      "[92.13523]\n"
     ]
    }
   ],
   "source": [
    "print(\"Circuito 1:\")\n",
    "print(model.predict(new_df0))\n",
    "print(model.predict(new_df1))\n",
    "print(model.predict(new_df2))\n",
    "print(\" \")\n",
    "print(\"Circuito 2:\")\n",
    "print(model.predict(new_df3))\n",
    "print(model.predict(new_df4))\n",
    "print(model.predict(new_df5))\n",
    "print(\" \")\n",
    "print(\"Circuito 3:\")\n",
    "print(model.predict(new_df6))\n",
    "print(model.predict(new_df7))\n",
    "print(model.predict(new_df8))"
   ]
  },
  {
   "cell_type": "markdown",
   "metadata": {},
   "source": [
    "Ahora vamos a probar el piloto en el coche:"
   ]
  },
  {
   "cell_type": "code",
   "execution_count": 107,
   "metadata": {},
   "outputs": [],
   "source": [
    "new_df0 = transform_data(\"Bahrein\", True, \"Soft\", \"Push\", 0.5, \"Average\", \"Average\", False, 0.5, 0, 2, 2, \"Sainz\", True)\n",
    "new_df1 = transform_data(\"Bahrein\", True, \"Soft\", \"Push\", 0.5, \"Average\", \"Average\", False, 0.5, 0, 2, 2, \"Leclerc\", True)\n",
    "new_df2 = transform_data(\"Imola\", True, \"Soft\", \"Push\", 0.5, \"Average\", \"Average\", False, 0.5, 0, 2, 2, \"Sainz\", True)\n",
    "new_df3 = transform_data(\"Imola\", True, \"Soft\", \"Push\", 0.5, \"Average\", \"Average\", False, 0.5, 0, 2, 2, \"Leclerc\", True)\n",
    "new_df4 = transform_data(\"Jeddah\", True, \"Soft\", \"Push\", 0.5, \"Average\", \"Average\", False, 0.5, 0, 2, 2, \"Sainz\", True)\n",
    "new_df5 = transform_data(\"Jeddah\", True, \"Soft\", \"Push\", 0.5, \"Average\", \"Average\", False, 0.5, 0, 2, 2, \"Leclerc\", True)"
   ]
  },
  {
   "cell_type": "code",
   "execution_count": 108,
   "metadata": {},
   "outputs": [
    {
     "name": "stdout",
     "output_type": "stream",
     "text": [
      "Circuito 1:\n",
      "[94.917175]\n",
      "[95.010335]\n",
      " \n",
      "Circuito 2:\n",
      "[77.51655]\n",
      "[77.587475]\n",
      " \n",
      "Circuito 3:\n",
      "[92.13523]\n",
      "[92.1793]\n"
     ]
    }
   ],
   "source": [
    "print(\"Circuito 1:\")\n",
    "print(model.predict(new_df0))\n",
    "print(model.predict(new_df1))\n",
    "print(\" \")\n",
    "print(\"Circuito 2:\")\n",
    "print(model.predict(new_df2))\n",
    "print(model.predict(new_df3))\n",
    "print(\" \")\n",
    "print(\"Circuito 3:\")\n",
    "print(model.predict(new_df4))\n",
    "print(model.predict(new_df5))"
   ]
  },
  {
   "cell_type": "markdown",
   "metadata": {},
   "source": [
    "Ahora vamos a probar el modo de gasto del combustible:"
   ]
  },
  {
   "cell_type": "code",
   "execution_count": 109,
   "metadata": {},
   "outputs": [],
   "source": [
    "new_df0 = transform_data(\"Bahrein\", True, \"Soft\", \"Push\", 0.5, \"Average\", \"Average\", False, 0.5, 0, 2, 2, \"Sainz\", True)\n",
    "new_df1 = transform_data(\"Bahrein\", True, \"Soft\", \"Push\", 0.5, \"Average\", \"Average\", False, 0.5, 0, 2, 2, \"Sainz\", False)\n",
    "new_df2 = transform_data(\"Imola\", True, \"Soft\", \"Push\", 0.5, \"Average\", \"Average\", False, 0.5, 0, 2, 2, \"Sainz\", True)\n",
    "new_df3 = transform_data(\"Imola\", True, \"Soft\", \"Push\", 0.5, \"Average\", \"Average\", False, 0.5, 0, 2, 2, \"Sainz\", False)\n",
    "new_df4 = transform_data(\"Jeddah\", True, \"Soft\", \"Push\", 0.5, \"Average\", \"Average\", False, 0.5, 0, 2, 2, \"Sainz\", True)\n",
    "new_df5 = transform_data(\"Jeddah\", True, \"Soft\", \"Push\", 0.5, \"Average\", \"Average\", False, 0.5, 0, 2, 2, \"Sainz\", False)"
   ]
  },
  {
   "cell_type": "code",
   "execution_count": 110,
   "metadata": {},
   "outputs": [
    {
     "name": "stdout",
     "output_type": "stream",
     "text": [
      "Circuito 1:\n",
      "[94.917175]\n",
      "[95.007595]\n",
      " \n",
      "Circuito 2:\n",
      "[77.51655]\n",
      "[77.552535]\n",
      " \n",
      "Circuito 3:\n",
      "[92.13523]\n",
      "[92.30469]\n"
     ]
    }
   ],
   "source": [
    "print(\"Circuito 1:\")\n",
    "print(model.predict(new_df0))\n",
    "print(model.predict(new_df1))\n",
    "print(\" \")\n",
    "print(\"Circuito 2:\")\n",
    "print(model.predict(new_df2))\n",
    "print(model.predict(new_df3))\n",
    "print(\" \")\n",
    "print(\"Circuito 3:\")\n",
    "print(model.predict(new_df4))\n",
    "print(model.predict(new_df5))"
   ]
  },
  {
   "cell_type": "markdown",
   "metadata": {},
   "source": [
    "Despues de haber visto que variables influyen mas en el tiempo por vuelta, vamos a probar a entrenar el modelo solo con variables que influyen realmente en el tiempo por vuelta."
   ]
  },
  {
   "cell_type": "code",
   "execution_count": 10,
   "metadata": {},
   "outputs": [],
   "source": [
    "# Ruta al archivo CSV\n",
    "archivo_csv = 'Datasets/240310F1_Dataset.csv'\n",
    "encoder = LabelEncoder()\n",
    "# Leer el archivo CSV\n",
    "df_F1 = pd.read_csv(archivo_csv)\n",
    "\n",
    "\n",
    "df_F1.drop('DesgasteVuelta', axis=1, inplace=True)\n",
    "df_F1.drop('Clima', axis=1, inplace=True)\n",
    "df_F1.drop('TemperaturaPista', axis=1, inplace=True)\n",
    "df_F1.drop( 'ConfianzaPilotoCoche', axis=1, inplace=True)\n",
    "df_F1.drop( 'ConfianzaPilotoPista', axis=1, inplace=True)\n",
    "df_F1.drop( 'AgarreAsfalto', axis=1, inplace=True)\n",
    "df_F1.drop( 'GomaEnPista', axis=1, inplace=True)\n",
    "\n",
    "\n",
    "#Eliminamos las filas que contengan NaN\n",
    "df_F1.dropna(inplace=True)\n",
    "\n",
    "# Eliminar filas donde 'SafetyCar' es True\n",
    "df_F1 = df_F1[df_F1['SafetyCar'] == False]\n",
    "df_F1.drop('SafetyCar', axis=1, inplace=True)\n",
    "\n",
    "\n",
    "# Eliminar filas donde haya trafico ya que no son representativas.\n",
    "df_F1 = df_F1[df_F1['Trafico'] == False]\n",
    "df_F1.drop('Trafico', axis=1, inplace=True)\n",
    "\n",
    "encoder = LabelEncoder()\n",
    "df_F1['Piloto'] = encoder.fit_transform(df_F1['Piloto'])\n",
    "\n",
    "df_F1 = pd.get_dummies(df_F1, columns = ['Circuito'] )\n",
    "df_F1 = pd.get_dummies(df_F1, columns = ['Neumáticos'] )\n",
    "df_F1 = pd.get_dummies(df_F1, columns = ['ModoPilotaje'] )\n"
   ]
  },
  {
   "cell_type": "code",
   "execution_count": 11,
   "metadata": {},
   "outputs": [
    {
     "name": "stdout",
     "output_type": "stream",
     "text": [
      "      Entrenamientos  CargaCombustible  Sobrecalentamiento  VidaNeumatico  \\\n",
      "0               True          0.406827               False       0.955224   \n",
      "1               True          0.320111               False       0.955224   \n",
      "2               True          0.389299               False       0.895522   \n",
      "3               True          0.301661               False       0.895522   \n",
      "4               True          0.372694               False       0.835821   \n",
      "...              ...               ...                 ...            ...   \n",
      "1523           False          0.036900               False       0.119403   \n",
      "1524           False          0.014760               False       0.208955   \n",
      "1525           False          0.019373               False       0.059701   \n",
      "1526           False          0.000000               False       0.149254   \n",
      "1527           False          0.004613               False       0.000000   \n",
      "\n",
      "      CantidadAgua  Piloto  CombustibleAlto  Circuito_Australia  \\\n",
      "0              0.0       1            False               False   \n",
      "1              0.0       0            False               False   \n",
      "2              0.0       1            False               False   \n",
      "3              0.0       0            False               False   \n",
      "4              0.0       1            False               False   \n",
      "...            ...     ...              ...                 ...   \n",
      "1523           0.0       0            False               False   \n",
      "1524           0.0       1            False               False   \n",
      "1525           0.0       0            False               False   \n",
      "1526           0.0       1            False               False   \n",
      "1527           0.0       0            False               False   \n",
      "\n",
      "      Circuito_Bahrein  Circuito_Imola  Circuito_Jeddah  Circuito_Miami  \\\n",
      "0                 True           False            False           False   \n",
      "1                 True           False            False           False   \n",
      "2                 True           False            False           False   \n",
      "3                 True           False            False           False   \n",
      "4                 True           False            False           False   \n",
      "...                ...             ...              ...             ...   \n",
      "1523             False           False            False            True   \n",
      "1524             False           False            False            True   \n",
      "1525             False           False            False            True   \n",
      "1526             False           False            False            True   \n",
      "1527             False           False            False            True   \n",
      "\n",
      "      Neumáticos_Hard  Neumáticos_Inter  Neumáticos_Medium  Neumáticos_Rain  \\\n",
      "0               False             False              False            False   \n",
      "1               False             False              False            False   \n",
      "2               False             False              False            False   \n",
      "3               False             False              False            False   \n",
      "4               False             False              False            False   \n",
      "...               ...               ...                ...              ...   \n",
      "1523            False             False              False            False   \n",
      "1524            False             False              False            False   \n",
      "1525            False             False              False            False   \n",
      "1526            False             False              False            False   \n",
      "1527            False             False              False            False   \n",
      "\n",
      "      Neumáticos_Soft  ModoPilotaje_Balanced  ModoPilotaje_Push  \\\n",
      "0                True                   True              False   \n",
      "1                True                   True              False   \n",
      "2                True                   True              False   \n",
      "3                True                   True              False   \n",
      "4                True                   True              False   \n",
      "...               ...                    ...                ...   \n",
      "1523             True                  False              False   \n",
      "1524             True                  False              False   \n",
      "1525             True                  False              False   \n",
      "1526             True                  False              False   \n",
      "1527             True                  False              False   \n",
      "\n",
      "      ModoPilotaje_Save  \n",
      "0                 False  \n",
      "1                 False  \n",
      "2                 False  \n",
      "3                 False  \n",
      "4                 False  \n",
      "...                 ...  \n",
      "1523               True  \n",
      "1524               True  \n",
      "1525               True  \n",
      "1526               True  \n",
      "1527               True  \n",
      "\n",
      "[1320 rows x 20 columns]\n"
     ]
    }
   ],
   "source": [
    "\n",
    "# Selecting the 'CargaCombustible' column\n",
    "carga_combustible = df_F1['CargaCombustible'].values.reshape(-1, 1)\n",
    "\n",
    "min_max_scaler = MinMaxScaler()\n",
    "carga_combustible_minmax = min_max_scaler.fit_transform(carga_combustible)\n",
    "\n",
    "df_F1['CargaCombustible'] = carga_combustible_minmax\n",
    "\n",
    "\n",
    "# Selecting the 'VidaNeumatico' column\n",
    "Vida_neumatico = df_F1['VidaNeumatico'].values.reshape(-1, 1)\n",
    "\n",
    "vida_neumatico_min_max = min_max_scaler.fit_transform(Vida_neumatico)\n",
    "\n",
    "df_F1['VidaNeumatico'] = vida_neumatico_min_max\n",
    "\n",
    "\n",
    "# Selecting the 'CantidadAgua' column\n",
    "Cantidad_Agua = df_F1['CantidadAgua'].values.reshape(-1, 1)\n",
    "\n",
    "Cantidad_Agua_min_max = min_max_scaler.fit_transform(Cantidad_Agua)\n",
    "\n",
    "df_F1['CantidadAgua'] = Cantidad_Agua_min_max\n",
    "\n",
    "\n",
    "X = df_F1.drop('TiempoVuelta', axis=1)\n",
    "print(X)\n",
    "Y = df_F1[['TiempoVuelta']]"
   ]
  },
  {
   "cell_type": "code",
   "execution_count": 12,
   "metadata": {},
   "outputs": [],
   "source": [
    "import numpy as np\n",
    "from sklearn.model_selection import KFold\n",
    "from sklearn.metrics import mean_squared_error, mean_absolute_error\n",
    "from sklearn.ensemble import RandomForestRegressor"
   ]
  },
  {
   "cell_type": "code",
   "execution_count": 13,
   "metadata": {},
   "outputs": [
    {
     "name": "stdout",
     "output_type": "stream",
     "text": [
      "Error Cuadrático Medio Promedio: 0.5329343627846699\n",
      "Error Absoluto Medio Promedio: 0.24746593181818635\n"
     ]
    }
   ],
   "source": [
    "# Supongamos que df es tu DataFrame y que 'target' es la columna objetivo\n",
    "df = df_F1 # Reemplaza con tu DataFrame\n",
    "X = df.drop('TiempoVuelta', axis=1)  # Reemplaza 'target' con el nombre de tu columna objetivo\n",
    "y = df['TiempoVuelta']  # De nuevo, reemplaza 'target' con el nombre de tu columna objetivo\n",
    "# Configuración de K-Fold\n",
    "kf = KFold(n_splits=5, shuffle=True, random_state=42)  # shuffle y random_state son opcionales pero recomendados\n",
    "\n",
    "mse_scores = []\n",
    "mae_scores = []\n",
    "\n",
    "# Bucle K-Fold\n",
    "for train_index, test_index in kf.split(X):\n",
    "    X_train, X_test = X.iloc[train_index], X.iloc[test_index]\n",
    "    y_train, y_test = y.iloc[train_index], y.iloc[test_index]\n",
    "\n",
    "    # Crear y entrenar el modelo\n",
    "    model = RandomForestRegressor(n_estimators=200)\n",
    "    model.fit(X_train, y_train)\n",
    "\n",
    "    # Hacer predicciones y evaluar\n",
    "    y_pred = model.predict(X_test)\n",
    "    mse_scores.append(mean_squared_error(y_test, y_pred))\n",
    "    mae_scores.append(mean_absolute_error(y_test, y_pred))\n",
    "\n",
    "# Calcular la media de los errores\n",
    "mean_mse = np.mean(mse_scores)\n",
    "mean_mae = np.mean(mae_scores)\n",
    "\n",
    "print(f\"Error Cuadrático Medio Promedio: {mean_mse}\")\n",
    "print(f\"Error Absoluto Medio Promedio: {mean_mae}\")"
   ]
  },
  {
   "cell_type": "markdown",
   "metadata": {},
   "source": [
    "El error es prácticamente el mismo y hemos conseguido eliminar de los datos de entrada para entrenar al modelo 11 columnas.\n",
    "Por lo que el modelo será mas eficiente que el que teniamos anteriormente."
   ]
  },
  {
   "cell_type": "markdown",
   "metadata": {},
   "source": [
    "Ahora vamos a comprobar si creando un modelo para cada circuito da mejores, iguales o peores resultados que los que tenemos."
   ]
  },
  {
   "cell_type": "code",
   "execution_count": 14,
   "metadata": {},
   "outputs": [],
   "source": [
    "# Ruta al archivo CSV\n",
    "archivo_csv = 'Datasets/240310F1_Dataset.csv'\n",
    "encoder = LabelEncoder()\n",
    "# Leer el archivo CSV\n",
    "df_F1 = pd.read_csv(archivo_csv)\n",
    "\n",
    "\n",
    "df_F1.drop('DesgasteVuelta', axis=1, inplace=True)\n",
    "df_F1.drop('Clima', axis=1, inplace=True)\n",
    "df_F1.drop('TemperaturaPista', axis=1, inplace=True)\n",
    "df_F1.drop( 'ConfianzaPilotoCoche', axis=1, inplace=True)\n",
    "df_F1.drop( 'ConfianzaPilotoPista', axis=1, inplace=True)\n",
    "df_F1.drop( 'AgarreAsfalto', axis=1, inplace=True)\n",
    "df_F1.drop( 'GomaEnPista', axis=1, inplace=True)\n",
    "\n",
    "\n",
    "#Eliminamos las filas que contengan NaN\n",
    "df_F1.dropna(inplace=True)\n",
    "\n",
    "# Eliminar filas donde 'SafetyCar' es True\n",
    "df_F1 = df_F1[df_F1['SafetyCar'] == False]\n",
    "df_F1.drop('SafetyCar', axis=1, inplace=True)\n",
    "\n",
    "\n",
    "# Eliminar filas donde haya trafico ya que no son representativas.\n",
    "df_F1 = df_F1[df_F1['Trafico'] == False]\n",
    "df_F1.drop('Trafico', axis=1, inplace=True)\n",
    "\n",
    "encoder = LabelEncoder()\n",
    "df_F1['Piloto'] = encoder.fit_transform(df_F1['Piloto'])\n",
    "\n",
    "df_F1 = pd.get_dummies(df_F1, columns = ['Neumáticos'] )\n",
    "df_F1 = pd.get_dummies(df_F1, columns = ['ModoPilotaje'] )\n"
   ]
  },
  {
   "cell_type": "code",
   "execution_count": 15,
   "metadata": {},
   "outputs": [],
   "source": [
    "\n",
    "# Selecting the 'CargaCombustible' column\n",
    "carga_combustible = df_F1['CargaCombustible'].values.reshape(-1, 1)\n",
    "\n",
    "min_max_scaler = MinMaxScaler()\n",
    "carga_combustible_minmax = min_max_scaler.fit_transform(carga_combustible)\n",
    "\n",
    "df_F1['CargaCombustible'] = carga_combustible_minmax\n",
    "\n",
    "\n",
    "# Selecting the 'VidaNeumatico' column\n",
    "Vida_neumatico = df_F1['VidaNeumatico'].values.reshape(-1, 1)\n",
    "\n",
    "vida_neumatico_min_max = min_max_scaler.fit_transform(Vida_neumatico)\n",
    "\n",
    "df_F1['VidaNeumatico'] = vida_neumatico_min_max\n",
    "\n",
    "\n",
    "# Selecting the 'CantidadAgua' column\n",
    "Cantidad_Agua = df_F1['CantidadAgua'].values.reshape(-1, 1)\n",
    "\n",
    "Cantidad_Agua_min_max = min_max_scaler.fit_transform(Cantidad_Agua)\n",
    "\n",
    "df_F1['CantidadAgua'] = Cantidad_Agua_min_max\n",
    "\n",
    "df_Bahrein = df_F1[df_F1['Circuito'] == 'Bahrein']\n",
    "df_Bahrein = df_Bahrein.drop(columns=['Circuito'], axis = 1)\n",
    "\n",
    "df_Jeddah = df_F1[df_F1['Circuito'] == 'Jeddah']\n",
    "df_Jeddah = df_Jeddah.drop(columns=['Circuito'], axis = 1)\n",
    "\n",
    "df_Australia = df_F1[df_F1['Circuito'] == 'Australia']\n",
    "df_Australia = df_Australia.drop(columns=['Circuito'], axis=1)\n",
    "\n",
    "df_Imola = df_F1[df_F1['Circuito'] == 'Imola']\n",
    "df_Imola = df_Imola.drop(columns=['Circuito'], axis=1)\n",
    "\n",
    "df_Miami = df_F1[df_F1['Circuito'] == 'Miami']\n",
    "df_Miami = df_Miami.drop('Circuito', axis=1)\n",
    "\n"
   ]
  },
  {
   "cell_type": "code",
   "execution_count": 20,
   "metadata": {},
   "outputs": [
    {
     "name": "stdout",
     "output_type": "stream",
     "text": [
      "Error Cuadrático Medio Promedio: 0.08223492818520232\n",
      "Error Absoluto Medio Promedio: 0.16829617435065852\n"
     ]
    }
   ],
   "source": [
    "# Supongamos que df es tu DataFrame y que 'target' es la columna objetivo\n",
    "df = df_Miami # Reemplaza con tu DataFrame\n",
    "X = df.drop('TiempoVuelta', axis=1)  # Reemplaza 'target' con el nombre de tu columna objetivo\n",
    "y = df['TiempoVuelta']  # De nuevo, reemplaza 'target' con el nombre de tu columna objetivo\n",
    "# Configuración de K-Fold\n",
    "kf = KFold(n_splits=5, shuffle=True, random_state=42)  # shuffle y random_state son opcionales pero recomendados\n",
    "\n",
    "mse_scores = []\n",
    "mae_scores = []\n",
    "\n",
    "# Bucle K-Fold\n",
    "for train_index, test_index in kf.split(X):\n",
    "    X_train, X_test = X.iloc[train_index], X.iloc[test_index]\n",
    "    y_train, y_test = y.iloc[train_index], y.iloc[test_index]\n",
    "\n",
    "    # Crear y entrenar el modelo\n",
    "    model = RandomForestRegressor(n_estimators=200)\n",
    "    model.fit(X_train, y_train)\n",
    "\n",
    "    # Hacer predicciones y evaluar\n",
    "    y_pred = model.predict(X_test)\n",
    "    mse_scores.append(mean_squared_error(y_test, y_pred))\n",
    "    mae_scores.append(mean_absolute_error(y_test, y_pred))\n",
    "\n",
    "# Calcular la media de los errores\n",
    "mean_mse = np.mean(mse_scores)\n",
    "mean_mae = np.mean(mae_scores)\n",
    "\n",
    "print(f\"Error Cuadrático Medio Promedio: {mean_mse}\")\n",
    "print(f\"Error Absoluto Medio Promedio: {mean_mae}\")"
   ]
  }
 ],
 "metadata": {
  "kernelspec": {
   "display_name": "Python 3",
   "language": "python",
   "name": "python3"
  },
  "language_info": {
   "codemirror_mode": {
    "name": "ipython",
    "version": 3
   },
   "file_extension": ".py",
   "mimetype": "text/x-python",
   "name": "python",
   "nbconvert_exporter": "python",
   "pygments_lexer": "ipython3",
   "version": "3.9.6"
  }
 },
 "nbformat": 4,
 "nbformat_minor": 2
}
